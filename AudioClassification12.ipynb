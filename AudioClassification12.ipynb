{
  "cells": [
    {
      "cell_type": "markdown",
      "metadata": {
        "id": "view-in-github",
        "colab_type": "text"
      },
      "source": [
        "<a href=\"https://colab.research.google.com/github/MaureenMbugua/CNNAudionClassification/blob/main/AudioClassification12.ipynb\" target=\"_parent\"><img src=\"https://colab.research.google.com/assets/colab-badge.svg\" alt=\"Open In Colab\"/></a>"
      ]
    },
    {
      "cell_type": "markdown",
      "source": [
        "####Author: Maureen Mbugua"
      ],
      "metadata": {
        "id": "WY_gQcsTO7xh"
      }
    },
    {
      "cell_type": "markdown",
      "metadata": {
        "id": "KGJPubH0vF_-"
      },
      "source": [
        "#Exploratory Data Analysis"
      ]
    },
    {
      "cell_type": "code",
      "execution_count": 1,
      "metadata": {
        "id": "1YJ5NiBKbTYO"
      },
      "outputs": [],
      "source": [
        "#Install libraries #librosa #librosa"
      ]
    },
    {
      "cell_type": "code",
      "execution_count": 2,
      "metadata": {
        "colab": {
          "base_uri": "https://localhost:8080/",
          "height": 0
        },
        "id": "stuI_agrbTYS",
        "outputId": "96c51ca8-aac6-499e-adee-ce830856955f"
      },
      "outputs": [
        {
          "output_type": "stream",
          "name": "stdout",
          "text": [
            "Requirement already satisfied: librosa in /usr/local/lib/python3.7/dist-packages (0.8.1)\n",
            "Requirement already satisfied: pooch>=1.0 in /usr/local/lib/python3.7/dist-packages (from librosa) (1.5.2)\n",
            "Requirement already satisfied: scikit-learn!=0.19.0,>=0.14.0 in /usr/local/lib/python3.7/dist-packages (from librosa) (1.0.1)\n",
            "Requirement already satisfied: decorator>=3.0.0 in /usr/local/lib/python3.7/dist-packages (from librosa) (4.4.2)\n",
            "Requirement already satisfied: packaging>=20.0 in /usr/local/lib/python3.7/dist-packages (from librosa) (21.3)\n",
            "Requirement already satisfied: numba>=0.43.0 in /usr/local/lib/python3.7/dist-packages (from librosa) (0.51.2)\n",
            "Requirement already satisfied: joblib>=0.14 in /usr/local/lib/python3.7/dist-packages (from librosa) (1.1.0)\n",
            "Requirement already satisfied: numpy>=1.15.0 in /usr/local/lib/python3.7/dist-packages (from librosa) (1.19.5)\n",
            "Requirement already satisfied: resampy>=0.2.2 in /usr/local/lib/python3.7/dist-packages (from librosa) (0.2.2)\n",
            "Requirement already satisfied: audioread>=2.0.0 in /usr/local/lib/python3.7/dist-packages (from librosa) (2.1.9)\n",
            "Requirement already satisfied: soundfile>=0.10.2 in /usr/local/lib/python3.7/dist-packages (from librosa) (0.10.3.post1)\n",
            "Requirement already satisfied: scipy>=1.0.0 in /usr/local/lib/python3.7/dist-packages (from librosa) (1.4.1)\n",
            "Requirement already satisfied: setuptools in /usr/local/lib/python3.7/dist-packages (from numba>=0.43.0->librosa) (57.4.0)\n",
            "Requirement already satisfied: llvmlite<0.35,>=0.34.0.dev0 in /usr/local/lib/python3.7/dist-packages (from numba>=0.43.0->librosa) (0.34.0)\n",
            "Requirement already satisfied: pyparsing!=3.0.5,>=2.0.2 in /usr/local/lib/python3.7/dist-packages (from packaging>=20.0->librosa) (3.0.6)\n",
            "Requirement already satisfied: appdirs in /usr/local/lib/python3.7/dist-packages (from pooch>=1.0->librosa) (1.4.4)\n",
            "Requirement already satisfied: requests in /usr/local/lib/python3.7/dist-packages (from pooch>=1.0->librosa) (2.23.0)\n",
            "Requirement already satisfied: six>=1.3 in /usr/local/lib/python3.7/dist-packages (from resampy>=0.2.2->librosa) (1.15.0)\n",
            "Requirement already satisfied: threadpoolctl>=2.0.0 in /usr/local/lib/python3.7/dist-packages (from scikit-learn!=0.19.0,>=0.14.0->librosa) (3.0.0)\n",
            "Requirement already satisfied: cffi>=1.0 in /usr/local/lib/python3.7/dist-packages (from soundfile>=0.10.2->librosa) (1.15.0)\n",
            "Requirement already satisfied: pycparser in /usr/local/lib/python3.7/dist-packages (from cffi>=1.0->soundfile>=0.10.2->librosa) (2.21)\n",
            "Requirement already satisfied: certifi>=2017.4.17 in /usr/local/lib/python3.7/dist-packages (from requests->pooch>=1.0->librosa) (2021.10.8)\n",
            "Requirement already satisfied: idna<3,>=2.5 in /usr/local/lib/python3.7/dist-packages (from requests->pooch>=1.0->librosa) (2.10)\n",
            "Requirement already satisfied: urllib3!=1.25.0,!=1.25.1,<1.26,>=1.21.1 in /usr/local/lib/python3.7/dist-packages (from requests->pooch>=1.0->librosa) (1.24.3)\n",
            "Requirement already satisfied: chardet<4,>=3.0.2 in /usr/local/lib/python3.7/dist-packages (from requests->pooch>=1.0->librosa) (3.0.4)\n"
          ]
        }
      ],
      "source": [
        "!pip install librosa"
      ]
    },
    {
      "cell_type": "code",
      "execution_count": 3,
      "metadata": {
        "id": "TcqEoTwobTYU"
      },
      "outputs": [],
      "source": [
        "#for displaying signal\n",
        "import matplotlib.pyplot as plt\n",
        "%matplotlib inline"
      ]
    },
    {
      "cell_type": "code",
      "execution_count": 4,
      "metadata": {
        "id": "1REbmkJVbTYV"
      },
      "outputs": [],
      "source": [
        "filename='//NonverbalVocalization/NonverbalVocalization/2CVI_15_11_0_15_0_0_0.wav'"
      ]
    },
    {
      "cell_type": "code",
      "execution_count": 5,
      "metadata": {
        "id": "MNYnU3oXbTYW"
      },
      "outputs": [],
      "source": [
        "#for displaying graphs in a certain manner\n",
        "import IPython.display as ipd\n",
        "import librosa\n",
        "import librosa.display"
      ]
    },
    {
      "cell_type": "code",
      "execution_count": 6,
      "metadata": {
        "colab": {
          "base_uri": "https://localhost:8080/",
          "height": 0
        },
        "id": "5h-I30-xbeOz",
        "outputId": "c2d56977-7475-4eda-a161-449df8c99601"
      },
      "outputs": [
        {
          "output_type": "stream",
          "name": "stdout",
          "text": [
            "Mounted at /content/drive\n"
          ]
        }
      ],
      "source": [
        "from google.colab import drive\n",
        "drive.mount('/content/drive')"
      ]
    },
    {
      "cell_type": "code",
      "execution_count": 7,
      "metadata": {
        "id": "bOKV8qvIbyKq"
      },
      "outputs": [],
      "source": [
        "import zipfile\n",
        "import os\n",
        "\n",
        "zip_ref = zipfile.ZipFile('/content/drive/MyDrive/NonverbalVocalization.zip', 'r') #Opens the zip file in read mode\n",
        "zip_ref.extractall('/NonverbalVocalization') #Extracts the files into the /tmp folder\n",
        "zip_ref.close()"
      ]
    },
    {
      "cell_type": "code",
      "execution_count": 8,
      "metadata": {
        "colab": {
          "base_uri": "https://localhost:8080/",
          "height": 392
        },
        "id": "HGzLmkoCbTYX",
        "outputId": "15af7b38-cb60-43d8-feff-bed103cb4d52"
      },
      "outputs": [
        {
          "output_type": "execute_result",
          "data": {
            "text/html": [
              "\n",
              "                <audio controls=\"controls\" >\n",
              "                    <source src=\"data:audio/x-wav;base64,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\" type=\"audio/x-wav\" />\n",
              "                    Your browser does not support the audio element.\n",
              "                </audio>\n",
              "              "
            ],
            "text/plain": [
              "<IPython.lib.display.Audio object>"
            ]
          },
          "metadata": {},
          "execution_count": 8
        },
        {
          "output_type": "display_data",
          "data": {
            "image/png": "[encoded data removed]",
            "text/plain": [
              "<Figure size 1008x360 with 1 Axes>"
            ]
          },
          "metadata": {
            "needs_background": "light"
          }
        }
      ],
      "source": [
        "plt.figure(figsize=(14,5))\n",
        "data,sample_rate=librosa.load(filename)#gives two sets of info\n",
        "librosa.display.waveplot(data,sr=sample_rate)\n",
        "ipd.Audio(filename)"
      ]
    },
    {
      "cell_type": "code",
      "execution_count": 9,
      "metadata": {
        "colab": {
          "base_uri": "https://localhost:8080/",
          "height": 0
        },
        "id": "oGLuX1vibTYY",
        "outputId": "0360ff02-1126-4965-cdee-6a0011736ea9"
      },
      "outputs": [
        {
          "output_type": "execute_result",
          "data": {
            "text/plain": [
              "22050"
            ]
          },
          "metadata": {},
          "execution_count": 9
        }
      ],
      "source": [
        "sample_rate\n"
      ]
    },
    {
      "cell_type": "code",
      "execution_count": 10,
      "metadata": {
        "id": "B6Ydc5iebTYZ"
      },
      "outputs": [],
      "source": [
        "from scipy.io import wavfile as wav\n",
        "wave_sample_rate, wave_audio=wav.read(filename)"
      ]
    },
    {
      "cell_type": "code",
      "execution_count": 11,
      "metadata": {
        "colab": {
          "base_uri": "https://localhost:8080/",
          "height": 0
        },
        "id": "7r8FUDG8bTYa",
        "outputId": "ca290f34-c70f-4ad3-9797-dedb656cd225"
      },
      "outputs": [
        {
          "output_type": "execute_result",
          "data": {
            "text/plain": [
              "16000"
            ]
          },
          "metadata": {},
          "execution_count": 11
        }
      ],
      "source": [
        "wave_sample_rate"
      ]
    },
    {
      "cell_type": "code",
      "execution_count": 12,
      "metadata": {
        "colab": {
          "base_uri": "https://localhost:8080/",
          "height": 0
        },
        "id": "fIXbJGcEbTYb",
        "outputId": "45b85673-1d14-4d6b-ab67-61ce88939264"
      },
      "outputs": [
        {
          "output_type": "execute_result",
          "data": {
            "text/plain": [
              "array([ 0,  0,  0, ..., 15, 15, 17], dtype=int16)"
            ]
          },
          "metadata": {},
          "execution_count": 12
        }
      ],
      "source": [
        "wave_audio"
      ]
    },
    {
      "cell_type": "code",
      "execution_count": 13,
      "metadata": {
        "colab": {
          "base_uri": "https://localhost:8080/",
          "height": 0
        },
        "id": "bvORMpCPbTYc",
        "outputId": "093f2dfb-8afc-448d-ba75-fe92a5b58713"
      },
      "outputs": [
        {
          "output_type": "execute_result",
          "data": {
            "text/plain": [
              "array([0.        , 0.        , 0.        , ..., 0.00044033, 0.00056158,\n",
              "       0.00039001], dtype=float32)"
            ]
          },
          "metadata": {},
          "execution_count": 13
        }
      ],
      "source": [
        "data"
      ]
    },
    {
      "cell_type": "code",
      "execution_count": 14,
      "metadata": {
        "id": "zN10-eDabTYd"
      },
      "outputs": [],
      "source": [
        "import json\n",
        "with open(\"/NonverbalVocalization/NonverbalVocalization/Nonverbal_Vocalization.json\", \"r\") as read_file:\n",
        "    mdata = json.load(read_file)"
      ]
    },
    {
      "cell_type": "code",
      "execution_count": 15,
      "metadata": {
        "colab": {
          "base_uri": "https://localhost:8080/",
          "height": 206
        },
        "id": "Q2kDMbXcbTYe",
        "outputId": "6cd8b1f4-526b-42c7-c2c3-4cd5514f1399"
      },
      "outputs": [
        {
          "output_type": "execute_result",
          "data": {
            "text/html": [
              "\n",
              "  <div id=\"df-00ef4913-28c7-4dfb-8da6-a6b26553280d\">\n",
              "    <div class=\"colab-df-container\">\n",
              "      <div>\n",
              "<style scoped>\n",
              "    .dataframe tbody tr th:only-of-type {\n",
              "        vertical-align: middle;\n",
              "    }\n",
              "\n",
              "    .dataframe tbody tr th {\n",
              "        vertical-align: top;\n",
              "    }\n",
              "\n",
              "    .dataframe thead th {\n",
              "        text-align: right;\n",
              "    }\n",
              "</style>\n",
              "<table border=\"1\" class=\"dataframe\">\n",
              "  <thead>\n",
              "    <tr style=\"text-align: right;\">\n",
              "      <th></th>\n",
              "      <th>audfile_name</th>\n",
              "      <th>age</th>\n",
              "      <th>noise</th>\n",
              "      <th>sex</th>\n",
              "      <th>speakerID</th>\n",
              "      <th>class_ID</th>\n",
              "      <th>class_name</th>\n",
              "    </tr>\n",
              "  </thead>\n",
              "  <tbody>\n",
              "    <tr>\n",
              "      <th>0</th>\n",
              "      <td>87LX_0_6_0_19_0_0_0.wav</td>\n",
              "      <td>19</td>\n",
              "      <td>0</td>\n",
              "      <td>0</td>\n",
              "      <td>87LX</td>\n",
              "      <td>0</td>\n",
              "      <td>teeth-chattering</td>\n",
              "    </tr>\n",
              "    <tr>\n",
              "      <th>1</th>\n",
              "      <td>4MYS_0_5_0_27_0_0_0.wav</td>\n",
              "      <td>27</td>\n",
              "      <td>0</td>\n",
              "      <td>0</td>\n",
              "      <td>4MYS</td>\n",
              "      <td>0</td>\n",
              "      <td>teeth-chattering</td>\n",
              "    </tr>\n",
              "    <tr>\n",
              "      <th>2</th>\n",
              "      <td>F8BC_0_6_0_14_0_0_0.wav</td>\n",
              "      <td>14</td>\n",
              "      <td>0</td>\n",
              "      <td>0</td>\n",
              "      <td>F8BC</td>\n",
              "      <td>0</td>\n",
              "      <td>teeth-chattering</td>\n",
              "    </tr>\n",
              "    <tr>\n",
              "      <th>3</th>\n",
              "      <td>TZCX_0_3_0_20_0_0_0.wav</td>\n",
              "      <td>20</td>\n",
              "      <td>0</td>\n",
              "      <td>0</td>\n",
              "      <td>TZCX</td>\n",
              "      <td>0</td>\n",
              "      <td>teeth-chattering</td>\n",
              "    </tr>\n",
              "    <tr>\n",
              "      <th>4</th>\n",
              "      <td>CTTJ_0_10_0_14_0_0_0.wav</td>\n",
              "      <td>14</td>\n",
              "      <td>0</td>\n",
              "      <td>0</td>\n",
              "      <td>CTTJ</td>\n",
              "      <td>0</td>\n",
              "      <td>teeth-chattering</td>\n",
              "    </tr>\n",
              "  </tbody>\n",
              "</table>\n",
              "</div>\n",
              "      <button class=\"colab-df-convert\" onclick=\"convertToInteractive('df-00ef4913-28c7-4dfb-8da6-a6b26553280d')\"\n",
              "              title=\"Convert this dataframe to an interactive table.\"\n",
              "              style=\"display:none;\">\n",
              "        \n",
              "  <svg xmlns=\"http://www.w3.org/2000/svg\" height=\"24px\"viewBox=\"0 0 24 24\"\n",
              "       width=\"24px\">\n",
              "    <path d=\"M0 0h24v24H0V0z\" fill=\"none\"/>\n",
              "    <path d=\"M18.56 5.44l.94 2.06.94-2.06 2.06-.94-2.06-.94-.94-2.06-.94 2.06-2.06.94zm-11 1L8.5 8.5l.94-2.06 2.06-.94-2.06-.94L8.5 2.5l-.94 2.06-2.06.94zm10 10l.94 2.06.94-2.06 2.06-.94-2.06-.94-.94-2.06-.94 2.06-2.06.94z\"/><path d=\"M17.41 7.96l-1.37-1.37c-.4-.4-.92-.59-1.43-.59-.52 0-1.04.2-1.43.59L10.3 9.45l-7.72 7.72c-.78.78-.78 2.05 0 2.83L4 21.41c.39.39.9.59 1.41.59.51 0 1.02-.2 1.41-.59l7.78-7.78 2.81-2.81c.8-.78.8-2.07 0-2.86zM5.41 20L4 18.59l7.72-7.72 1.47 1.35L5.41 20z\"/>\n",
              "  </svg>\n",
              "      </button>\n",
              "      \n",
              "  <style>\n",
              "    .colab-df-container {\n",
              "      display:flex;\n",
              "      flex-wrap:wrap;\n",
              "      gap: 12px;\n",
              "    }\n",
              "\n",
              "    .colab-df-convert {\n",
              "      background-color: #E8F0FE;\n",
              "      border: none;\n",
              "      border-radius: 50%;\n",
              "      cursor: pointer;\n",
              "      display: none;\n",
              "      fill: #1967D2;\n",
              "      height: 32px;\n",
              "      padding: 0 0 0 0;\n",
              "      width: 32px;\n",
              "    }\n",
              "\n",
              "    .colab-df-convert:hover {\n",
              "      background-color: #E2EBFA;\n",
              "      box-shadow: 0px 1px 2px rgba(60, 64, 67, 0.3), 0px 1px 3px 1px rgba(60, 64, 67, 0.15);\n",
              "      fill: #174EA6;\n",
              "    }\n",
              "\n",
              "    [theme=dark] .colab-df-convert {\n",
              "      background-color: #3B4455;\n",
              "      fill: #D2E3FC;\n",
              "    }\n",
              "\n",
              "    [theme=dark] .colab-df-convert:hover {\n",
              "      background-color: #434B5C;\n",
              "      box-shadow: 0px 1px 3px 1px rgba(0, 0, 0, 0.15);\n",
              "      filter: drop-shadow(0px 1px 2px rgba(0, 0, 0, 0.3));\n",
              "      fill: #FFFFFF;\n",
              "    }\n",
              "  </style>\n",
              "\n",
              "      <script>\n",
              "        const buttonEl =\n",
              "          document.querySelector('#df-00ef4913-28c7-4dfb-8da6-a6b26553280d button.colab-df-convert');\n",
              "        buttonEl.style.display =\n",
              "          google.colab.kernel.accessAllowed ? 'block' : 'none';\n",
              "\n",
              "        async function convertToInteractive(key) {\n",
              "          const element = document.querySelector('#df-00ef4913-28c7-4dfb-8da6-a6b26553280d');\n",
              "          const dataTable =\n",
              "            await google.colab.kernel.invokeFunction('convertToInteractive',\n",
              "                                                     [key], {});\n",
              "          if (!dataTable) return;\n",
              "\n",
              "          const docLinkHtml = 'Like what you see? Visit the ' +\n",
              "            '<a target=\"_blank\" href=https://colab.research.google.com/notebooks/data_table.ipynb>data table notebook</a>'\n",
              "            + ' to learn more about interactive tables.';\n",
              "          element.innerHTML = '';\n",
              "          dataTable['output_type'] = 'display_data';\n",
              "          await google.colab.output.renderOutput(dataTable, element);\n",
              "          const docLink = document.createElement('div');\n",
              "          docLink.innerHTML = docLinkHtml;\n",
              "          element.appendChild(docLink);\n",
              "        }\n",
              "      </script>\n",
              "    </div>\n",
              "  </div>\n",
              "  "
            ],
            "text/plain": [
              "               audfile_name  age  noise  ...  speakerID class_ID        class_name\n",
              "0   87LX_0_6_0_19_0_0_0.wav   19      0  ...       87LX        0  teeth-chattering\n",
              "1   4MYS_0_5_0_27_0_0_0.wav   27      0  ...       4MYS        0  teeth-chattering\n",
              "2   F8BC_0_6_0_14_0_0_0.wav   14      0  ...       F8BC        0  teeth-chattering\n",
              "3   TZCX_0_3_0_20_0_0_0.wav   20      0  ...       TZCX        0  teeth-chattering\n",
              "4  CTTJ_0_10_0_14_0_0_0.wav   14      0  ...       CTTJ        0  teeth-chattering\n",
              "\n",
              "[5 rows x 7 columns]"
            ]
          },
          "metadata": {},
          "execution_count": 15
        }
      ],
      "source": [
        "import pandas as pd\n",
        "\n",
        "metadata=pd.read_csv(\"/NonverbalVocalization/NonverbalVocalization/Nonverbal_Vocalization.csv\")\n",
        "metadata.head()"
      ]
    },
    {
      "cell_type": "markdown",
      "metadata": {
        "id": "RK9zvhxbvz0E"
      },
      "source": [
        "#Data Pre-processing"
      ]
    },
    {
      "cell_type": "code",
      "execution_count": 16,
      "metadata": {
        "colab": {
          "base_uri": "https://localhost:8080/",
          "height": 0
        },
        "id": "vhQzjK2PbTYf",
        "outputId": "e61c640e-c5e3-4e38-b9a1-ce6a83e4b8ba"
      },
      "outputs": [
        {
          "output_type": "execute_result",
          "data": {
            "text/plain": [
              "array([[-5.3737079e+02, -5.3737079e+02, -5.3737079e+02, ...,\n",
              "        -5.2416022e+02, -5.2323865e+02, -5.2497742e+02],\n",
              "       [ 0.0000000e+00,  0.0000000e+00,  0.0000000e+00, ...,\n",
              "         1.8584249e+01,  1.9869776e+01,  1.7438576e+01],\n",
              "       [ 0.0000000e+00,  0.0000000e+00,  0.0000000e+00, ...,\n",
              "         1.8291756e+01,  1.9524261e+01,  1.7175488e+01],\n",
              "       ...,\n",
              "       [ 0.0000000e+00,  0.0000000e+00,  0.0000000e+00, ...,\n",
              "        -2.2395653e-01,  1.5370879e+00,  6.9571972e-01],\n",
              "       [ 0.0000000e+00,  0.0000000e+00,  0.0000000e+00, ...,\n",
              "        -3.7662068e-01,  1.5612111e+00,  8.7277460e-01],\n",
              "       [ 0.0000000e+00,  0.0000000e+00,  0.0000000e+00, ...,\n",
              "        -5.2437663e-01,  1.5261453e+00,  9.9874914e-01]], dtype=float32)"
            ]
          },
          "metadata": {},
          "execution_count": 16
        }
      ],
      "source": [
        "#Extract Features for Classification\n",
        "mfccs = librosa.feature.mfcc(y=data, sr=sample_rate, n_mfcc=40)\n",
        "mfccs\n"
      ]
    },
    {
      "cell_type": "code",
      "execution_count": 17,
      "metadata": {
        "colab": {
          "base_uri": "https://localhost:8080/",
          "height": 363
        },
        "id": "KINaKZr2bTYg",
        "outputId": "953b26e9-f8cb-4f17-ae54-ca5c635f62ee"
      },
      "outputs": [
        {
          "output_type": "execute_result",
          "data": {
            "text/html": [
              "\n",
              "  <div id=\"df-ffcc6b0f-a224-4ddf-b456-eadb7d9541b7\">\n",
              "    <div class=\"colab-df-container\">\n",
              "      <div>\n",
              "<style scoped>\n",
              "    .dataframe tbody tr th:only-of-type {\n",
              "        vertical-align: middle;\n",
              "    }\n",
              "\n",
              "    .dataframe tbody tr th {\n",
              "        vertical-align: top;\n",
              "    }\n",
              "\n",
              "    .dataframe thead th {\n",
              "        text-align: right;\n",
              "    }\n",
              "</style>\n",
              "<table border=\"1\" class=\"dataframe\">\n",
              "  <thead>\n",
              "    <tr style=\"text-align: right;\">\n",
              "      <th></th>\n",
              "      <th>audfile_name</th>\n",
              "      <th>age</th>\n",
              "      <th>noise</th>\n",
              "      <th>sex</th>\n",
              "      <th>speakerID</th>\n",
              "      <th>class_ID</th>\n",
              "      <th>class_name</th>\n",
              "    </tr>\n",
              "  </thead>\n",
              "  <tbody>\n",
              "    <tr>\n",
              "      <th>0</th>\n",
              "      <td>87LX_0_6_0_19_0_0_0.wav</td>\n",
              "      <td>19</td>\n",
              "      <td>0</td>\n",
              "      <td>0</td>\n",
              "      <td>87LX</td>\n",
              "      <td>0</td>\n",
              "      <td>teeth-chattering</td>\n",
              "    </tr>\n",
              "    <tr>\n",
              "      <th>1</th>\n",
              "      <td>4MYS_0_5_0_27_0_0_0.wav</td>\n",
              "      <td>27</td>\n",
              "      <td>0</td>\n",
              "      <td>0</td>\n",
              "      <td>4MYS</td>\n",
              "      <td>0</td>\n",
              "      <td>teeth-chattering</td>\n",
              "    </tr>\n",
              "    <tr>\n",
              "      <th>2</th>\n",
              "      <td>F8BC_0_6_0_14_0_0_0.wav</td>\n",
              "      <td>14</td>\n",
              "      <td>0</td>\n",
              "      <td>0</td>\n",
              "      <td>F8BC</td>\n",
              "      <td>0</td>\n",
              "      <td>teeth-chattering</td>\n",
              "    </tr>\n",
              "    <tr>\n",
              "      <th>3</th>\n",
              "      <td>TZCX_0_3_0_20_0_0_0.wav</td>\n",
              "      <td>20</td>\n",
              "      <td>0</td>\n",
              "      <td>0</td>\n",
              "      <td>TZCX</td>\n",
              "      <td>0</td>\n",
              "      <td>teeth-chattering</td>\n",
              "    </tr>\n",
              "    <tr>\n",
              "      <th>4</th>\n",
              "      <td>CTTJ_0_10_0_14_0_0_0.wav</td>\n",
              "      <td>14</td>\n",
              "      <td>0</td>\n",
              "      <td>0</td>\n",
              "      <td>CTTJ</td>\n",
              "      <td>0</td>\n",
              "      <td>teeth-chattering</td>\n",
              "    </tr>\n",
              "    <tr>\n",
              "      <th>5</th>\n",
              "      <td>VVBA_0_4_0_23_0_0_0.wav</td>\n",
              "      <td>23</td>\n",
              "      <td>0</td>\n",
              "      <td>0</td>\n",
              "      <td>VVBA</td>\n",
              "      <td>0</td>\n",
              "      <td>teeth-chattering</td>\n",
              "    </tr>\n",
              "    <tr>\n",
              "      <th>6</th>\n",
              "      <td>CNWF_0_3_0_20_0_0_0.wav</td>\n",
              "      <td>20</td>\n",
              "      <td>0</td>\n",
              "      <td>0</td>\n",
              "      <td>CNWF</td>\n",
              "      <td>0</td>\n",
              "      <td>teeth-chattering</td>\n",
              "    </tr>\n",
              "    <tr>\n",
              "      <th>7</th>\n",
              "      <td>O5E1_0_6_1_29_0_0_0.wav</td>\n",
              "      <td>29</td>\n",
              "      <td>0</td>\n",
              "      <td>1</td>\n",
              "      <td>O5E1</td>\n",
              "      <td>0</td>\n",
              "      <td>teeth-chattering</td>\n",
              "    </tr>\n",
              "    <tr>\n",
              "      <th>8</th>\n",
              "      <td>5AG3_0_3_1_18_0_0_0.wav</td>\n",
              "      <td>18</td>\n",
              "      <td>0</td>\n",
              "      <td>1</td>\n",
              "      <td>5AG3</td>\n",
              "      <td>0</td>\n",
              "      <td>teeth-chattering</td>\n",
              "    </tr>\n",
              "    <tr>\n",
              "      <th>9</th>\n",
              "      <td>OI67_0_2_1_22_0_0_0.wav</td>\n",
              "      <td>22</td>\n",
              "      <td>0</td>\n",
              "      <td>1</td>\n",
              "      <td>OI67</td>\n",
              "      <td>0</td>\n",
              "      <td>teeth-chattering</td>\n",
              "    </tr>\n",
              "  </tbody>\n",
              "</table>\n",
              "</div>\n",
              "      <button class=\"colab-df-convert\" onclick=\"convertToInteractive('df-ffcc6b0f-a224-4ddf-b456-eadb7d9541b7')\"\n",
              "              title=\"Convert this dataframe to an interactive table.\"\n",
              "              style=\"display:none;\">\n",
              "        \n",
              "  <svg xmlns=\"http://www.w3.org/2000/svg\" height=\"24px\"viewBox=\"0 0 24 24\"\n",
              "       width=\"24px\">\n",
              "    <path d=\"M0 0h24v24H0V0z\" fill=\"none\"/>\n",
              "    <path d=\"M18.56 5.44l.94 2.06.94-2.06 2.06-.94-2.06-.94-.94-2.06-.94 2.06-2.06.94zm-11 1L8.5 8.5l.94-2.06 2.06-.94-2.06-.94L8.5 2.5l-.94 2.06-2.06.94zm10 10l.94 2.06.94-2.06 2.06-.94-2.06-.94-.94-2.06-.94 2.06-2.06.94z\"/><path d=\"M17.41 7.96l-1.37-1.37c-.4-.4-.92-.59-1.43-.59-.52 0-1.04.2-1.43.59L10.3 9.45l-7.72 7.72c-.78.78-.78 2.05 0 2.83L4 21.41c.39.39.9.59 1.41.59.51 0 1.02-.2 1.41-.59l7.78-7.78 2.81-2.81c.8-.78.8-2.07 0-2.86zM5.41 20L4 18.59l7.72-7.72 1.47 1.35L5.41 20z\"/>\n",
              "  </svg>\n",
              "      </button>\n",
              "      \n",
              "  <style>\n",
              "    .colab-df-container {\n",
              "      display:flex;\n",
              "      flex-wrap:wrap;\n",
              "      gap: 12px;\n",
              "    }\n",
              "\n",
              "    .colab-df-convert {\n",
              "      background-color: #E8F0FE;\n",
              "      border: none;\n",
              "      border-radius: 50%;\n",
              "      cursor: pointer;\n",
              "      display: none;\n",
              "      fill: #1967D2;\n",
              "      height: 32px;\n",
              "      padding: 0 0 0 0;\n",
              "      width: 32px;\n",
              "    }\n",
              "\n",
              "    .colab-df-convert:hover {\n",
              "      background-color: #E2EBFA;\n",
              "      box-shadow: 0px 1px 2px rgba(60, 64, 67, 0.3), 0px 1px 3px 1px rgba(60, 64, 67, 0.15);\n",
              "      fill: #174EA6;\n",
              "    }\n",
              "\n",
              "    [theme=dark] .colab-df-convert {\n",
              "      background-color: #3B4455;\n",
              "      fill: #D2E3FC;\n",
              "    }\n",
              "\n",
              "    [theme=dark] .colab-df-convert:hover {\n",
              "      background-color: #434B5C;\n",
              "      box-shadow: 0px 1px 3px 1px rgba(0, 0, 0, 0.15);\n",
              "      filter: drop-shadow(0px 1px 2px rgba(0, 0, 0, 0.3));\n",
              "      fill: #FFFFFF;\n",
              "    }\n",
              "  </style>\n",
              "\n",
              "      <script>\n",
              "        const buttonEl =\n",
              "          document.querySelector('#df-ffcc6b0f-a224-4ddf-b456-eadb7d9541b7 button.colab-df-convert');\n",
              "        buttonEl.style.display =\n",
              "          google.colab.kernel.accessAllowed ? 'block' : 'none';\n",
              "\n",
              "        async function convertToInteractive(key) {\n",
              "          const element = document.querySelector('#df-ffcc6b0f-a224-4ddf-b456-eadb7d9541b7');\n",
              "          const dataTable =\n",
              "            await google.colab.kernel.invokeFunction('convertToInteractive',\n",
              "                                                     [key], {});\n",
              "          if (!dataTable) return;\n",
              "\n",
              "          const docLinkHtml = 'Like what you see? Visit the ' +\n",
              "            '<a target=\"_blank\" href=https://colab.research.google.com/notebooks/data_table.ipynb>data table notebook</a>'\n",
              "            + ' to learn more about interactive tables.';\n",
              "          element.innerHTML = '';\n",
              "          dataTable['output_type'] = 'display_data';\n",
              "          await google.colab.output.renderOutput(dataTable, element);\n",
              "          const docLink = document.createElement('div');\n",
              "          docLink.innerHTML = docLinkHtml;\n",
              "          element.appendChild(docLink);\n",
              "        }\n",
              "      </script>\n",
              "    </div>\n",
              "  </div>\n",
              "  "
            ],
            "text/plain": [
              "               audfile_name  age  noise  ...  speakerID class_ID        class_name\n",
              "0   87LX_0_6_0_19_0_0_0.wav   19      0  ...       87LX        0  teeth-chattering\n",
              "1   4MYS_0_5_0_27_0_0_0.wav   27      0  ...       4MYS        0  teeth-chattering\n",
              "2   F8BC_0_6_0_14_0_0_0.wav   14      0  ...       F8BC        0  teeth-chattering\n",
              "3   TZCX_0_3_0_20_0_0_0.wav   20      0  ...       TZCX        0  teeth-chattering\n",
              "4  CTTJ_0_10_0_14_0_0_0.wav   14      0  ...       CTTJ        0  teeth-chattering\n",
              "5   VVBA_0_4_0_23_0_0_0.wav   23      0  ...       VVBA        0  teeth-chattering\n",
              "6   CNWF_0_3_0_20_0_0_0.wav   20      0  ...       CNWF        0  teeth-chattering\n",
              "7   O5E1_0_6_1_29_0_0_0.wav   29      0  ...       O5E1        0  teeth-chattering\n",
              "8   5AG3_0_3_1_18_0_0_0.wav   18      0  ...       5AG3        0  teeth-chattering\n",
              "9   OI67_0_2_1_22_0_0_0.wav   22      0  ...       OI67        0  teeth-chattering\n",
              "\n",
              "[10 rows x 7 columns]"
            ]
          },
          "metadata": {},
          "execution_count": 17
        }
      ],
      "source": [
        "#Extracting MFCC's for every audio file\n",
        "import pandas as pd\n",
        "import os\n",
        "import librosa\n",
        "\n",
        "audio_dataset_path='/NonverbalVocalization/NonverbalVocalization'\n",
        "metadata.head(10)"
      ]
    },
    {
      "cell_type": "code",
      "execution_count": 18,
      "metadata": {
        "id": "j0AuLrF-bTYh"
      },
      "outputs": [],
      "source": [
        "#creating a feature extractor function\n",
        "#loads the audio file, extracts features and finds scaled features by finding mean of transpose of value of mfcc features\n",
        " \n",
        "def features_extractor(file):\n",
        "    audio, sample_rate = librosa.load(file_name, res_type='kaiser_fast')\n",
        "    mfccs_features = librosa.feature.mfcc(y=audio, sr=sample_rate, n_mfcc=40)\n",
        "    mfccs_scaled_features = np.mean(mfccs_features.T,axis=0)\n",
        "    \n",
        "    return mfccs_scaled_features"
      ]
    },
    {
      "cell_type": "code",
      "execution_count": 19,
      "metadata": {
        "colab": {
          "base_uri": "https://localhost:8080/",
          "height": 0
        },
        "id": "16zyZHdIbTYi",
        "outputId": "85603758-f159-4391-83a1-5dbc4335e72d"
      },
      "outputs": [
        {
          "output_type": "stream",
          "name": "stderr",
          "text": [
            "727it [00:30, 23.79it/s]\n"
          ]
        }
      ],
      "source": [
        "#iterating through every audio file and extracting features\n",
        "import numpy as np\n",
        "from tqdm import tqdm\n",
        "\n",
        "extracted_features=[] #list to store the features and class label\n",
        "for index_num,row in tqdm(metadata.iterrows()):\n",
        "    file_name = os.path.join(os.path.abspath(audio_dataset_path), str(row[\"class_name\"])+'/', str(row[\"audfile_name\"]))\n",
        "    final_class_labels = row[\"class_name\"]\n",
        "    data = features_extractor(file_name)\n",
        "    extracted_features.append([data, final_class_labels]) #our dependent and independent features, later converted into a dataframe"
      ]
    },
    {
      "cell_type": "code",
      "execution_count": 20,
      "metadata": {
        "colab": {
          "base_uri": "https://localhost:8080/",
          "height": 677
        },
        "id": "daHqDM_nbTYi",
        "outputId": "768a6c41-30a8-4e9f-cb3b-82c8db887fce"
      },
      "outputs": [
        {
          "output_type": "execute_result",
          "data": {
            "text/html": [
              "\n",
              "  <div id=\"df-97ee775f-08b8-42bc-82c5-715d97b1041a\">\n",
              "    <div class=\"colab-df-container\">\n",
              "      <div>\n",
              "<style scoped>\n",
              "    .dataframe tbody tr th:only-of-type {\n",
              "        vertical-align: middle;\n",
              "    }\n",
              "\n",
              "    .dataframe tbody tr th {\n",
              "        vertical-align: top;\n",
              "    }\n",
              "\n",
              "    .dataframe thead th {\n",
              "        text-align: right;\n",
              "    }\n",
              "</style>\n",
              "<table border=\"1\" class=\"dataframe\">\n",
              "  <thead>\n",
              "    <tr style=\"text-align: right;\">\n",
              "      <th></th>\n",
              "      <th>feature</th>\n",
              "      <th>class</th>\n",
              "    </tr>\n",
              "  </thead>\n",
              "  <tbody>\n",
              "    <tr>\n",
              "      <th>0</th>\n",
              "      <td>[-596.0521, 46.280857, 21.179968, 21.595993, 1...</td>\n",
              "      <td>teeth-chattering</td>\n",
              "    </tr>\n",
              "    <tr>\n",
              "      <th>1</th>\n",
              "      <td>[-430.47748, 165.47548, -19.052588, 2.3916497,...</td>\n",
              "      <td>teeth-chattering</td>\n",
              "    </tr>\n",
              "    <tr>\n",
              "      <th>2</th>\n",
              "      <td>[-490.7734, 108.566605, -22.723782, 39.0963, -...</td>\n",
              "      <td>teeth-chattering</td>\n",
              "    </tr>\n",
              "    <tr>\n",
              "      <th>3</th>\n",
              "      <td>[-501.74335, 143.3307, 2.2156296, 18.220789, -...</td>\n",
              "      <td>teeth-chattering</td>\n",
              "    </tr>\n",
              "    <tr>\n",
              "      <th>4</th>\n",
              "      <td>[-514.83105, 145.79393, -28.424004, 60.687637,...</td>\n",
              "      <td>teeth-chattering</td>\n",
              "    </tr>\n",
              "    <tr>\n",
              "      <th>5</th>\n",
              "      <td>[-627.4276, 126.80181, -38.632298, 49.74178, -...</td>\n",
              "      <td>teeth-chattering</td>\n",
              "    </tr>\n",
              "    <tr>\n",
              "      <th>6</th>\n",
              "      <td>[-680.6681, 82.789894, -11.279946, 47.058838, ...</td>\n",
              "      <td>teeth-chattering</td>\n",
              "    </tr>\n",
              "    <tr>\n",
              "      <th>7</th>\n",
              "      <td>[-534.5318, 183.14403, 51.81739, 41.85067, -2....</td>\n",
              "      <td>teeth-chattering</td>\n",
              "    </tr>\n",
              "    <tr>\n",
              "      <th>8</th>\n",
              "      <td>[-646.11005, 110.1571, -18.720848, 54.75976, -...</td>\n",
              "      <td>teeth-chattering</td>\n",
              "    </tr>\n",
              "    <tr>\n",
              "      <th>9</th>\n",
              "      <td>[-543.9393, 139.39474, -15.06812, 37.28891, -1...</td>\n",
              "      <td>teeth-chattering</td>\n",
              "    </tr>\n",
              "    <tr>\n",
              "      <th>10</th>\n",
              "      <td>[-514.8898, 149.27742, -0.107826084, 52.434475...</td>\n",
              "      <td>teeth-chattering</td>\n",
              "    </tr>\n",
              "    <tr>\n",
              "      <th>11</th>\n",
              "      <td>[-642.7364, 159.02129, -5.9242506, 63.123566, ...</td>\n",
              "      <td>teeth-chattering</td>\n",
              "    </tr>\n",
              "    <tr>\n",
              "      <th>12</th>\n",
              "      <td>[-668.6489, 112.715515, 1.1403782, 40.328175, ...</td>\n",
              "      <td>teeth-chattering</td>\n",
              "    </tr>\n",
              "    <tr>\n",
              "      <th>13</th>\n",
              "      <td>[-696.14667, 97.25866, -26.763723, 56.122772, ...</td>\n",
              "      <td>teeth-chattering</td>\n",
              "    </tr>\n",
              "    <tr>\n",
              "      <th>14</th>\n",
              "      <td>[-601.80695, 87.50566, -15.090966, 65.451065, ...</td>\n",
              "      <td>teeth-chattering</td>\n",
              "    </tr>\n",
              "    <tr>\n",
              "      <th>15</th>\n",
              "      <td>[-723.0953, 111.19238, -32.666832, 51.784718, ...</td>\n",
              "      <td>teeth-chattering</td>\n",
              "    </tr>\n",
              "    <tr>\n",
              "      <th>16</th>\n",
              "      <td>[-559.222, 161.1549, -11.419534, 30.979658, -2...</td>\n",
              "      <td>teeth-chattering</td>\n",
              "    </tr>\n",
              "    <tr>\n",
              "      <th>17</th>\n",
              "      <td>[-654.4111, 91.70491, 10.047834, 21.975424, 4....</td>\n",
              "      <td>teeth-chattering</td>\n",
              "    </tr>\n",
              "    <tr>\n",
              "      <th>18</th>\n",
              "      <td>[-552.4976, 147.30885, 0.57267, 21.985813, -23...</td>\n",
              "      <td>teeth-chattering</td>\n",
              "    </tr>\n",
              "    <tr>\n",
              "      <th>19</th>\n",
              "      <td>[-454.0023, 137.15785, -8.696181, 19.607586, -...</td>\n",
              "      <td>teeth-chattering</td>\n",
              "    </tr>\n",
              "  </tbody>\n",
              "</table>\n",
              "</div>\n",
              "      <button class=\"colab-df-convert\" onclick=\"convertToInteractive('df-97ee775f-08b8-42bc-82c5-715d97b1041a')\"\n",
              "              title=\"Convert this dataframe to an interactive table.\"\n",
              "              style=\"display:none;\">\n",
              "        \n",
              "  <svg xmlns=\"http://www.w3.org/2000/svg\" height=\"24px\"viewBox=\"0 0 24 24\"\n",
              "       width=\"24px\">\n",
              "    <path d=\"M0 0h24v24H0V0z\" fill=\"none\"/>\n",
              "    <path d=\"M18.56 5.44l.94 2.06.94-2.06 2.06-.94-2.06-.94-.94-2.06-.94 2.06-2.06.94zm-11 1L8.5 8.5l.94-2.06 2.06-.94-2.06-.94L8.5 2.5l-.94 2.06-2.06.94zm10 10l.94 2.06.94-2.06 2.06-.94-2.06-.94-.94-2.06-.94 2.06-2.06.94z\"/><path d=\"M17.41 7.96l-1.37-1.37c-.4-.4-.92-.59-1.43-.59-.52 0-1.04.2-1.43.59L10.3 9.45l-7.72 7.72c-.78.78-.78 2.05 0 2.83L4 21.41c.39.39.9.59 1.41.59.51 0 1.02-.2 1.41-.59l7.78-7.78 2.81-2.81c.8-.78.8-2.07 0-2.86zM5.41 20L4 18.59l7.72-7.72 1.47 1.35L5.41 20z\"/>\n",
              "  </svg>\n",
              "      </button>\n",
              "      \n",
              "  <style>\n",
              "    .colab-df-container {\n",
              "      display:flex;\n",
              "      flex-wrap:wrap;\n",
              "      gap: 12px;\n",
              "    }\n",
              "\n",
              "    .colab-df-convert {\n",
              "      background-color: #E8F0FE;\n",
              "      border: none;\n",
              "      border-radius: 50%;\n",
              "      cursor: pointer;\n",
              "      display: none;\n",
              "      fill: #1967D2;\n",
              "      height: 32px;\n",
              "      padding: 0 0 0 0;\n",
              "      width: 32px;\n",
              "    }\n",
              "\n",
              "    .colab-df-convert:hover {\n",
              "      background-color: #E2EBFA;\n",
              "      box-shadow: 0px 1px 2px rgba(60, 64, 67, 0.3), 0px 1px 3px 1px rgba(60, 64, 67, 0.15);\n",
              "      fill: #174EA6;\n",
              "    }\n",
              "\n",
              "    [theme=dark] .colab-df-convert {\n",
              "      background-color: #3B4455;\n",
              "      fill: #D2E3FC;\n",
              "    }\n",
              "\n",
              "    [theme=dark] .colab-df-convert:hover {\n",
              "      background-color: #434B5C;\n",
              "      box-shadow: 0px 1px 3px 1px rgba(0, 0, 0, 0.15);\n",
              "      filter: drop-shadow(0px 1px 2px rgba(0, 0, 0, 0.3));\n",
              "      fill: #FFFFFF;\n",
              "    }\n",
              "  </style>\n",
              "\n",
              "      <script>\n",
              "        const buttonEl =\n",
              "          document.querySelector('#df-97ee775f-08b8-42bc-82c5-715d97b1041a button.colab-df-convert');\n",
              "        buttonEl.style.display =\n",
              "          google.colab.kernel.accessAllowed ? 'block' : 'none';\n",
              "\n",
              "        async function convertToInteractive(key) {\n",
              "          const element = document.querySelector('#df-97ee775f-08b8-42bc-82c5-715d97b1041a');\n",
              "          const dataTable =\n",
              "            await google.colab.kernel.invokeFunction('convertToInteractive',\n",
              "                                                     [key], {});\n",
              "          if (!dataTable) return;\n",
              "\n",
              "          const docLinkHtml = 'Like what you see? Visit the ' +\n",
              "            '<a target=\"_blank\" href=https://colab.research.google.com/notebooks/data_table.ipynb>data table notebook</a>'\n",
              "            + ' to learn more about interactive tables.';\n",
              "          element.innerHTML = '';\n",
              "          dataTable['output_type'] = 'display_data';\n",
              "          await google.colab.output.renderOutput(dataTable, element);\n",
              "          const docLink = document.createElement('div');\n",
              "          docLink.innerHTML = docLinkHtml;\n",
              "          element.appendChild(docLink);\n",
              "        }\n",
              "      </script>\n",
              "    </div>\n",
              "  </div>\n",
              "  "
            ],
            "text/plain": [
              "                                              feature             class\n",
              "0   [-596.0521, 46.280857, 21.179968, 21.595993, 1...  teeth-chattering\n",
              "1   [-430.47748, 165.47548, -19.052588, 2.3916497,...  teeth-chattering\n",
              "2   [-490.7734, 108.566605, -22.723782, 39.0963, -...  teeth-chattering\n",
              "3   [-501.74335, 143.3307, 2.2156296, 18.220789, -...  teeth-chattering\n",
              "4   [-514.83105, 145.79393, -28.424004, 60.687637,...  teeth-chattering\n",
              "5   [-627.4276, 126.80181, -38.632298, 49.74178, -...  teeth-chattering\n",
              "6   [-680.6681, 82.789894, -11.279946, 47.058838, ...  teeth-chattering\n",
              "7   [-534.5318, 183.14403, 51.81739, 41.85067, -2....  teeth-chattering\n",
              "8   [-646.11005, 110.1571, -18.720848, 54.75976, -...  teeth-chattering\n",
              "9   [-543.9393, 139.39474, -15.06812, 37.28891, -1...  teeth-chattering\n",
              "10  [-514.8898, 149.27742, -0.107826084, 52.434475...  teeth-chattering\n",
              "11  [-642.7364, 159.02129, -5.9242506, 63.123566, ...  teeth-chattering\n",
              "12  [-668.6489, 112.715515, 1.1403782, 40.328175, ...  teeth-chattering\n",
              "13  [-696.14667, 97.25866, -26.763723, 56.122772, ...  teeth-chattering\n",
              "14  [-601.80695, 87.50566, -15.090966, 65.451065, ...  teeth-chattering\n",
              "15  [-723.0953, 111.19238, -32.666832, 51.784718, ...  teeth-chattering\n",
              "16  [-559.222, 161.1549, -11.419534, 30.979658, -2...  teeth-chattering\n",
              "17  [-654.4111, 91.70491, 10.047834, 21.975424, 4....  teeth-chattering\n",
              "18  [-552.4976, 147.30885, 0.57267, 21.985813, -23...  teeth-chattering\n",
              "19  [-454.0023, 137.15785, -8.696181, 19.607586, -...  teeth-chattering"
            ]
          },
          "metadata": {},
          "execution_count": 20
        }
      ],
      "source": [
        "#converting the features into a Pandas dataframe\n",
        "\n",
        "extracted_features_df = pd.DataFrame(extracted_features,columns=['feature','class'])\n",
        "extracted_features_df.head(20)"
      ]
    },
    {
      "cell_type": "code",
      "execution_count": 21,
      "metadata": {
        "colab": {
          "base_uri": "https://localhost:8080/",
          "height": 0
        },
        "id": "Vc0WMWZQbTYj",
        "outputId": "56afd3a6-452a-496e-cc5b-7669b7b54f99"
      },
      "outputs": [
        {
          "output_type": "execute_result",
          "data": {
            "text/plain": [
              "(727,)"
            ]
          },
          "metadata": {},
          "execution_count": 21
        }
      ],
      "source": [
        "#split into independent and dependent dataset\n",
        "X = np.array(extracted_features_df[\"feature\"].tolist()) #convert series to list then array\n",
        "Y = np.array(extracted_features_df[\"class\"].tolist())\n",
        "Y.shape"
      ]
    },
    {
      "cell_type": "code",
      "execution_count": 22,
      "metadata": {
        "colab": {
          "base_uri": "https://localhost:8080/",
          "height": 0
        },
        "id": "UbWChdZ4bTYk",
        "outputId": "ad3b3bff-478c-42a6-f7b6-c2d554cbcff4"
      },
      "outputs": [
        {
          "output_type": "execute_result",
          "data": {
            "text/plain": [
              "(727, 16)"
            ]
          },
          "metadata": {},
          "execution_count": 22
        }
      ],
      "source": [
        "#Label encoding\n",
        "#split\n",
        "y = np.array(pd.get_dummies(Y))\n",
        "y.shape\n"
      ]
    },
    {
      "cell_type": "markdown",
      "metadata": {
        "id": "Jw3T6vPbwRW7"
      },
      "source": [
        "#Splitting the Dataset\n"
      ]
    },
    {
      "cell_type": "code",
      "execution_count": 23,
      "metadata": {
        "id": "ICqRAUO-bTYm"
      },
      "outputs": [],
      "source": [
        "#train test validation split\n",
        "from sklearn.model_selection import train_test_split\n",
        "X_train,X_test,y_train,y_test=train_test_split(X,y,test_size=0.2,random_state=0)\n",
        "X_train,X_val,y_train,y_val=train_test_split(X_train,y_train,test_size=0.1,random_state=0)"
      ]
    },
    {
      "cell_type": "code",
      "execution_count": 24,
      "metadata": {
        "colab": {
          "base_uri": "https://localhost:8080/",
          "height": 0
        },
        "id": "7VNGqpOWbTYo",
        "outputId": "064709bd-8bdb-4afb-853d-dd62c71b9e9a"
      },
      "outputs": [
        {
          "output_type": "execute_result",
          "data": {
            "text/plain": [
              "(522, 40, 1)"
            ]
          },
          "metadata": {},
          "execution_count": 24
        }
      ],
      "source": [
        "X_train = X_train[..., np.newaxis]\n",
        "X_train.shape"
      ]
    },
    {
      "cell_type": "code",
      "execution_count": 25,
      "metadata": {
        "colab": {
          "base_uri": "https://localhost:8080/",
          "height": 0
        },
        "id": "xfE1EhFDZ3AJ",
        "outputId": "21b6a131-14ed-42ad-c280-7d2a9f286d92"
      },
      "outputs": [
        {
          "output_type": "execute_result",
          "data": {
            "text/plain": [
              "(59, 40, 1)"
            ]
          },
          "metadata": {},
          "execution_count": 25
        }
      ],
      "source": [
        "X_val = X_val[..., np.newaxis]\n",
        "X_val.shape"
      ]
    },
    {
      "cell_type": "code",
      "execution_count": 26,
      "metadata": {
        "colab": {
          "base_uri": "https://localhost:8080/",
          "height": 0
        },
        "id": "6n2xhONGbTYp",
        "outputId": "97883fb1-fa65-4424-d4d0-64dab5ec16a4"
      },
      "outputs": [
        {
          "output_type": "execute_result",
          "data": {
            "text/plain": [
              "(522, 16)"
            ]
          },
          "metadata": {},
          "execution_count": 26
        }
      ],
      "source": [
        "y_train.shape"
      ]
    },
    {
      "cell_type": "code",
      "execution_count": 27,
      "metadata": {
        "colab": {
          "base_uri": "https://localhost:8080/",
          "height": 0
        },
        "id": "PH3-IOcLbTYq",
        "outputId": "e1159295-b978-4b13-a0e4-c0a666775ac1"
      },
      "outputs": [
        {
          "output_type": "execute_result",
          "data": {
            "text/plain": [
              "(146, 40, 1)"
            ]
          },
          "metadata": {},
          "execution_count": 27
        }
      ],
      "source": [
        "X_test = X_test[..., np.newaxis]\n",
        "X_test.shape"
      ]
    },
    {
      "cell_type": "markdown",
      "metadata": {
        "id": "Rq_poLulbTYs"
      },
      "source": [
        "# Model Creation"
      ]
    },
    {
      "cell_type": "code",
      "execution_count": 29,
      "metadata": {
        "id": "NAlFvPUnbTYx"
      },
      "outputs": [],
      "source": [
        "import tensorflow as tf"
      ]
    },
    {
      "cell_type": "code",
      "execution_count": 30,
      "metadata": {
        "id": "616XsEEybTYy"
      },
      "outputs": [],
      "source": [
        "from tensorflow.keras.models import Sequential\n",
        "from tensorflow.keras.layers import Dense,Dropout,Activation,Flatten,Conv2D\n",
        "from tensorflow.keras.layers import MaxPooling2D\n",
        "from tensorflow.keras.optimizers import Adam\n",
        "from tensorflow.keras.layers import BatchNormalization\n",
        "from tensorflow.python.keras import regularizers\n",
        "from sklearn import metrics"
      ]
    },
    {
      "cell_type": "code",
      "execution_count": 31,
      "metadata": {
        "id": "DCLUuxsdbTYy"
      },
      "outputs": [],
      "source": [
        "num_labels=y.shape[1]"
      ]
    },
    {
      "cell_type": "code",
      "execution_count": 52,
      "metadata": {
        "id": "QFH7t_ahbTY0"
      },
      "outputs": [],
      "source": [
        "#Create CNN model\n",
        "input_shape = (X_train.shape[1], X_train.shape[2], 1)\n",
        "model = Sequential()\n",
        "\n",
        "#1st convolution layer\n",
        "model.add(Conv2D(32, (3, 3), activation='relu', padding='same', input_shape=input_shape))\n",
        "model.add(MaxPooling2D((3, 3), strides=(2, 2), padding='same'))\n",
        "model.add(BatchNormalization())\n",
        "\n",
        "#2nd convolution layer\n",
        "model.add(Conv2D(32, (3, 3), activation='relu', padding='same', kernel_regularizer=regularizers.l2(l=0.01)))\n",
        "model.add(MaxPooling2D((3, 3), strides=(2, 2), padding='same'))\n",
        "model.add(BatchNormalization())\n",
        "\n",
        "\n",
        "#flatten output and feed to dense layer\n",
        "model.add(Flatten())\n",
        "model.add(Dense(64, activation='elu'))\n",
        "model.add(Dropout(0.2))\n",
        "\n",
        "#output layer\n",
        "model.add(Dense(num_labels, activation='softmax'))"
      ]
    },
    {
      "cell_type": "code",
      "execution_count": 53,
      "metadata": {
        "colab": {
          "base_uri": "https://localhost:8080/"
        },
        "id": "lH0plherbTY1",
        "outputId": "ce72f9ae-2112-4f82-a8bb-c599dad813b4"
      },
      "outputs": [
        {
          "output_type": "stream",
          "name": "stdout",
          "text": [
            "Model: \"sequential_2\"\n",
            "_________________________________________________________________\n",
            " Layer (type)                Output Shape              Param #   \n",
            "=================================================================\n",
            " conv2d_4 (Conv2D)           (None, 40, 1, 32)         320       \n",
            "                                                                 \n",
            " max_pooling2d_4 (MaxPooling  (None, 20, 1, 32)        0         \n",
            " 2D)                                                             \n",
            "                                                                 \n",
            " batch_normalization_4 (Batc  (None, 20, 1, 32)        128       \n",
            " hNormalization)                                                 \n",
            "                                                                 \n",
            " conv2d_5 (Conv2D)           (None, 20, 1, 32)         9248      \n",
            "                                                                 \n",
            " max_pooling2d_5 (MaxPooling  (None, 10, 1, 32)        0         \n",
            " 2D)                                                             \n",
            "                                                                 \n",
            " batch_normalization_5 (Batc  (None, 10, 1, 32)        128       \n",
            " hNormalization)                                                 \n",
            "                                                                 \n",
            " flatten_2 (Flatten)         (None, 320)               0         \n",
            "                                                                 \n",
            " dense_4 (Dense)             (None, 64)                20544     \n",
            "                                                                 \n",
            " dropout_2 (Dropout)         (None, 64)                0         \n",
            "                                                                 \n",
            " dense_5 (Dense)             (None, 16)                1040      \n",
            "                                                                 \n",
            "=================================================================\n",
            "Total params: 31,408\n",
            "Trainable params: 31,280\n",
            "Non-trainable params: 128\n",
            "_________________________________________________________________\n"
          ]
        }
      ],
      "source": [
        "model.summary()"
      ]
    },
    {
      "cell_type": "markdown",
      "metadata": {
        "id": "tlBi4adHzTbP"
      },
      "source": [
        "#Training Model"
      ]
    },
    {
      "cell_type": "code",
      "execution_count": 54,
      "metadata": {
        "id": "jW3KS4QxbTY3"
      },
      "outputs": [],
      "source": [
        "optimiser = Adam(learning_rate=0.0001)\n",
        "test_acc=71.2456\n",
        "model.compile(optimizer=optimiser, loss='categorical_crossentropy', metrics=['accuracy'])"
      ]
    },
    {
      "cell_type": "code",
      "execution_count": 55,
      "metadata": {
        "colab": {
          "base_uri": "https://localhost:8080/"
        },
        "id": "t9sLDpJteQjW",
        "outputId": "e98f0385-d103-452c-8a27-a0c891a3e872"
      },
      "outputs": [
        {
          "output_type": "stream",
          "name": "stdout",
          "text": [
            "Epoch 1/400\n",
            "17/17 [==============================] - 1s 20ms/step - loss: 3.5833 - accuracy: 0.0517 - val_loss: 3.4306 - val_accuracy: 0.0339\n",
            "Epoch 2/400\n",
            "17/17 [==============================] - 0s 9ms/step - loss: 3.2526 - accuracy: 0.0977 - val_loss: 3.1878 - val_accuracy: 0.0508\n",
            "Epoch 3/400\n",
            "17/17 [==============================] - 0s 9ms/step - loss: 3.0170 - accuracy: 0.1245 - val_loss: 3.0666 - val_accuracy: 0.0508\n",
            "Epoch 4/400\n",
            "17/17 [==============================] - 0s 10ms/step - loss: 2.9064 - accuracy: 0.1456 - val_loss: 2.9872 - val_accuracy: 0.0847\n",
            "Epoch 5/400\n",
            "17/17 [==============================] - 0s 9ms/step - loss: 2.7998 - accuracy: 0.1858 - val_loss: 2.9303 - val_accuracy: 0.1017\n",
            "Epoch 6/400\n",
            "17/17 [==============================] - 0s 10ms/step - loss: 2.7469 - accuracy: 0.2126 - val_loss: 2.8780 - val_accuracy: 0.0847\n",
            "Epoch 7/400\n",
            "17/17 [==============================] - 0s 9ms/step - loss: 2.6187 - accuracy: 0.2433 - val_loss: 2.8236 - val_accuracy: 0.1356\n",
            "Epoch 8/400\n",
            "17/17 [==============================] - 0s 9ms/step - loss: 2.5356 - accuracy: 0.2739 - val_loss: 2.7690 - val_accuracy: 0.1695\n",
            "Epoch 9/400\n",
            "17/17 [==============================] - 0s 9ms/step - loss: 2.4562 - accuracy: 0.2969 - val_loss: 2.7169 - val_accuracy: 0.1695\n",
            "Epoch 10/400\n",
            "17/17 [==============================] - 0s 9ms/step - loss: 2.4313 - accuracy: 0.3065 - val_loss: 2.6704 - val_accuracy: 0.1864\n",
            "Epoch 11/400\n",
            "17/17 [==============================] - 0s 8ms/step - loss: 2.3308 - accuracy: 0.3295 - val_loss: 2.6258 - val_accuracy: 0.2034\n",
            "Epoch 12/400\n",
            "17/17 [==============================] - 0s 9ms/step - loss: 2.3094 - accuracy: 0.3372 - val_loss: 2.5867 - val_accuracy: 0.2203\n",
            "Epoch 13/400\n",
            "17/17 [==============================] - 0s 9ms/step - loss: 2.2779 - accuracy: 0.3295 - val_loss: 2.5443 - val_accuracy: 0.2542\n",
            "Epoch 14/400\n",
            "17/17 [==============================] - 0s 8ms/step - loss: 2.1718 - accuracy: 0.3831 - val_loss: 2.5019 - val_accuracy: 0.2881\n",
            "Epoch 15/400\n",
            "17/17 [==============================] - 0s 9ms/step - loss: 2.1285 - accuracy: 0.3927 - val_loss: 2.4586 - val_accuracy: 0.2712\n",
            "Epoch 16/400\n",
            "17/17 [==============================] - 0s 9ms/step - loss: 2.1222 - accuracy: 0.3908 - val_loss: 2.4238 - val_accuracy: 0.3390\n",
            "Epoch 17/400\n",
            "17/17 [==============================] - 0s 9ms/step - loss: 2.0258 - accuracy: 0.4272 - val_loss: 2.3845 - val_accuracy: 0.3390\n",
            "Epoch 18/400\n",
            "17/17 [==============================] - 0s 8ms/step - loss: 2.0401 - accuracy: 0.4176 - val_loss: 2.3496 - val_accuracy: 0.3559\n",
            "Epoch 19/400\n",
            "17/17 [==============================] - 0s 9ms/step - loss: 2.0212 - accuracy: 0.4234 - val_loss: 2.3138 - val_accuracy: 0.3898\n",
            "Epoch 20/400\n",
            "17/17 [==============================] - 0s 8ms/step - loss: 1.9438 - accuracy: 0.4502 - val_loss: 2.2754 - val_accuracy: 0.4068\n",
            "Epoch 21/400\n",
            "17/17 [==============================] - 0s 9ms/step - loss: 1.9369 - accuracy: 0.4425 - val_loss: 2.2464 - val_accuracy: 0.4407\n",
            "Epoch 22/400\n",
            "17/17 [==============================] - 0s 9ms/step - loss: 1.8613 - accuracy: 0.4751 - val_loss: 2.2223 - val_accuracy: 0.4237\n",
            "Epoch 23/400\n",
            "17/17 [==============================] - 0s 9ms/step - loss: 1.8692 - accuracy: 0.4636 - val_loss: 2.1812 - val_accuracy: 0.4746\n",
            "Epoch 24/400\n",
            "17/17 [==============================] - 0s 9ms/step - loss: 1.8835 - accuracy: 0.4502 - val_loss: 2.1562 - val_accuracy: 0.4746\n",
            "Epoch 25/400\n",
            "17/17 [==============================] - 0s 9ms/step - loss: 1.8519 - accuracy: 0.4655 - val_loss: 2.1287 - val_accuracy: 0.4407\n",
            "Epoch 26/400\n",
            "17/17 [==============================] - 0s 9ms/step - loss: 1.8218 - accuracy: 0.4751 - val_loss: 2.0964 - val_accuracy: 0.4407\n",
            "Epoch 27/400\n",
            "17/17 [==============================] - 0s 9ms/step - loss: 1.7781 - accuracy: 0.4828 - val_loss: 2.0692 - val_accuracy: 0.4576\n",
            "Epoch 28/400\n",
            "17/17 [==============================] - 0s 9ms/step - loss: 1.7801 - accuracy: 0.4598 - val_loss: 2.0500 - val_accuracy: 0.4915\n",
            "Epoch 29/400\n",
            "17/17 [==============================] - 0s 9ms/step - loss: 1.7381 - accuracy: 0.5019 - val_loss: 2.0252 - val_accuracy: 0.4576\n",
            "Epoch 30/400\n",
            "17/17 [==============================] - 0s 10ms/step - loss: 1.7220 - accuracy: 0.5134 - val_loss: 2.0112 - val_accuracy: 0.4407\n",
            "Epoch 31/400\n",
            "17/17 [==============================] - 0s 9ms/step - loss: 1.7053 - accuracy: 0.4981 - val_loss: 1.9943 - val_accuracy: 0.4576\n",
            "Epoch 32/400\n",
            "17/17 [==============================] - 0s 9ms/step - loss: 1.6658 - accuracy: 0.5192 - val_loss: 1.9737 - val_accuracy: 0.4576\n",
            "Epoch 33/400\n",
            "17/17 [==============================] - 0s 9ms/step - loss: 1.6997 - accuracy: 0.4943 - val_loss: 1.9561 - val_accuracy: 0.4576\n",
            "Epoch 34/400\n",
            "17/17 [==============================] - 0s 9ms/step - loss: 1.6896 - accuracy: 0.4828 - val_loss: 1.9478 - val_accuracy: 0.5254\n",
            "Epoch 35/400\n",
            "17/17 [==============================] - 0s 10ms/step - loss: 1.6491 - accuracy: 0.5172 - val_loss: 1.9294 - val_accuracy: 0.5254\n",
            "Epoch 36/400\n",
            "17/17 [==============================] - 0s 10ms/step - loss: 1.6224 - accuracy: 0.5709 - val_loss: 1.9227 - val_accuracy: 0.4576\n",
            "Epoch 37/400\n",
            "17/17 [==============================] - 0s 9ms/step - loss: 1.6171 - accuracy: 0.5421 - val_loss: 1.9028 - val_accuracy: 0.5085\n",
            "Epoch 38/400\n",
            "17/17 [==============================] - 0s 9ms/step - loss: 1.5669 - accuracy: 0.5690 - val_loss: 1.8915 - val_accuracy: 0.5254\n",
            "Epoch 39/400\n",
            "17/17 [==============================] - 0s 8ms/step - loss: 1.5415 - accuracy: 0.5556 - val_loss: 1.8759 - val_accuracy: 0.5254\n",
            "Epoch 40/400\n",
            "17/17 [==============================] - 0s 9ms/step - loss: 1.5615 - accuracy: 0.5421 - val_loss: 1.8791 - val_accuracy: 0.5085\n",
            "Epoch 41/400\n",
            "17/17 [==============================] - 0s 9ms/step - loss: 1.5673 - accuracy: 0.5287 - val_loss: 1.8597 - val_accuracy: 0.5085\n",
            "Epoch 42/400\n",
            "17/17 [==============================] - 0s 9ms/step - loss: 1.5205 - accuracy: 0.5709 - val_loss: 1.8431 - val_accuracy: 0.5424\n",
            "Epoch 43/400\n",
            "17/17 [==============================] - 0s 10ms/step - loss: 1.5505 - accuracy: 0.5307 - val_loss: 1.8424 - val_accuracy: 0.5593\n",
            "Epoch 44/400\n",
            "17/17 [==============================] - 0s 9ms/step - loss: 1.5195 - accuracy: 0.5651 - val_loss: 1.8242 - val_accuracy: 0.5085\n",
            "Epoch 45/400\n",
            "17/17 [==============================] - 0s 9ms/step - loss: 1.5234 - accuracy: 0.5421 - val_loss: 1.8094 - val_accuracy: 0.5424\n",
            "Epoch 46/400\n",
            "17/17 [==============================] - 0s 9ms/step - loss: 1.4753 - accuracy: 0.5728 - val_loss: 1.8166 - val_accuracy: 0.5085\n",
            "Epoch 47/400\n",
            "17/17 [==============================] - 0s 9ms/step - loss: 1.4723 - accuracy: 0.5920 - val_loss: 1.8163 - val_accuracy: 0.5424\n",
            "Epoch 48/400\n",
            "17/17 [==============================] - 0s 10ms/step - loss: 1.4868 - accuracy: 0.5805 - val_loss: 1.7987 - val_accuracy: 0.5763\n",
            "Epoch 49/400\n",
            "17/17 [==============================] - 0s 10ms/step - loss: 1.4459 - accuracy: 0.5939 - val_loss: 1.7988 - val_accuracy: 0.5763\n",
            "Epoch 50/400\n",
            "17/17 [==============================] - 0s 9ms/step - loss: 1.4524 - accuracy: 0.5785 - val_loss: 1.8019 - val_accuracy: 0.5424\n",
            "Epoch 51/400\n",
            "17/17 [==============================] - 0s 9ms/step - loss: 1.4101 - accuracy: 0.5977 - val_loss: 1.7646 - val_accuracy: 0.5763\n",
            "Epoch 52/400\n",
            "17/17 [==============================] - 0s 9ms/step - loss: 1.4072 - accuracy: 0.5958 - val_loss: 1.7611 - val_accuracy: 0.5424\n",
            "Epoch 53/400\n",
            "17/17 [==============================] - 0s 9ms/step - loss: 1.4092 - accuracy: 0.5862 - val_loss: 1.7581 - val_accuracy: 0.5593\n",
            "Epoch 54/400\n",
            "17/17 [==============================] - 0s 9ms/step - loss: 1.4118 - accuracy: 0.5958 - val_loss: 1.7540 - val_accuracy: 0.5932\n",
            "Epoch 55/400\n",
            "17/17 [==============================] - 0s 9ms/step - loss: 1.3932 - accuracy: 0.5920 - val_loss: 1.7505 - val_accuracy: 0.5593\n",
            "Epoch 56/400\n",
            "17/17 [==============================] - 0s 10ms/step - loss: 1.3781 - accuracy: 0.6092 - val_loss: 1.7454 - val_accuracy: 0.5763\n",
            "Epoch 57/400\n",
            "17/17 [==============================] - 0s 9ms/step - loss: 1.3651 - accuracy: 0.6111 - val_loss: 1.7381 - val_accuracy: 0.6102\n",
            "Epoch 58/400\n",
            "17/17 [==============================] - 0s 9ms/step - loss: 1.3533 - accuracy: 0.6207 - val_loss: 1.7308 - val_accuracy: 0.5763\n",
            "Epoch 59/400\n",
            "17/17 [==============================] - 0s 9ms/step - loss: 1.3314 - accuracy: 0.6149 - val_loss: 1.7135 - val_accuracy: 0.5763\n",
            "Epoch 60/400\n",
            "17/17 [==============================] - 0s 9ms/step - loss: 1.3255 - accuracy: 0.6149 - val_loss: 1.7166 - val_accuracy: 0.5932\n",
            "Epoch 61/400\n",
            "17/17 [==============================] - 0s 8ms/step - loss: 1.3391 - accuracy: 0.6034 - val_loss: 1.7037 - val_accuracy: 0.5763\n",
            "Epoch 62/400\n",
            "17/17 [==============================] - 0s 10ms/step - loss: 1.3008 - accuracy: 0.6303 - val_loss: 1.7101 - val_accuracy: 0.6102\n",
            "Epoch 63/400\n",
            "17/17 [==============================] - 0s 9ms/step - loss: 1.2869 - accuracy: 0.6303 - val_loss: 1.6971 - val_accuracy: 0.5593\n",
            "Epoch 64/400\n",
            "17/17 [==============================] - 0s 9ms/step - loss: 1.2891 - accuracy: 0.6092 - val_loss: 1.6937 - val_accuracy: 0.5424\n",
            "Epoch 65/400\n",
            "17/17 [==============================] - 0s 9ms/step - loss: 1.2969 - accuracy: 0.6169 - val_loss: 1.6826 - val_accuracy: 0.5424\n",
            "Epoch 66/400\n",
            "17/17 [==============================] - 0s 8ms/step - loss: 1.2821 - accuracy: 0.6284 - val_loss: 1.6856 - val_accuracy: 0.5763\n",
            "Epoch 67/400\n",
            "17/17 [==============================] - 0s 9ms/step - loss: 1.2900 - accuracy: 0.6111 - val_loss: 1.6802 - val_accuracy: 0.5932\n",
            "Epoch 68/400\n",
            "17/17 [==============================] - 0s 9ms/step - loss: 1.2726 - accuracy: 0.6475 - val_loss: 1.6689 - val_accuracy: 0.5763\n",
            "Epoch 69/400\n",
            "17/17 [==============================] - 0s 9ms/step - loss: 1.2865 - accuracy: 0.6015 - val_loss: 1.6831 - val_accuracy: 0.5593\n",
            "Epoch 70/400\n",
            "17/17 [==============================] - 0s 9ms/step - loss: 1.2564 - accuracy: 0.6475 - val_loss: 1.6708 - val_accuracy: 0.5424\n",
            "Epoch 71/400\n",
            "17/17 [==============================] - 0s 9ms/step - loss: 1.2650 - accuracy: 0.6398 - val_loss: 1.6667 - val_accuracy: 0.5593\n",
            "Epoch 72/400\n",
            "17/17 [==============================] - 0s 9ms/step - loss: 1.2421 - accuracy: 0.6398 - val_loss: 1.6565 - val_accuracy: 0.5424\n",
            "Epoch 73/400\n",
            "17/17 [==============================] - 0s 8ms/step - loss: 1.2674 - accuracy: 0.6437 - val_loss: 1.6651 - val_accuracy: 0.5424\n",
            "Epoch 74/400\n",
            "17/17 [==============================] - 0s 9ms/step - loss: 1.2420 - accuracy: 0.6494 - val_loss: 1.6736 - val_accuracy: 0.5593\n",
            "Epoch 75/400\n",
            "17/17 [==============================] - 0s 10ms/step - loss: 1.2436 - accuracy: 0.6475 - val_loss: 1.6592 - val_accuracy: 0.5932\n",
            "Epoch 76/400\n",
            "17/17 [==============================] - 0s 9ms/step - loss: 1.2518 - accuracy: 0.6188 - val_loss: 1.6260 - val_accuracy: 0.5593\n",
            "Epoch 77/400\n",
            "17/17 [==============================] - 0s 8ms/step - loss: 1.2056 - accuracy: 0.6494 - val_loss: 1.6292 - val_accuracy: 0.5593\n",
            "Epoch 78/400\n",
            "17/17 [==============================] - 0s 9ms/step - loss: 1.2227 - accuracy: 0.6437 - val_loss: 1.6341 - val_accuracy: 0.6102\n",
            "Epoch 79/400\n",
            "17/17 [==============================] - 0s 9ms/step - loss: 1.1958 - accuracy: 0.6513 - val_loss: 1.6291 - val_accuracy: 0.5932\n",
            "Epoch 80/400\n",
            "17/17 [==============================] - 0s 8ms/step - loss: 1.2296 - accuracy: 0.6360 - val_loss: 1.6200 - val_accuracy: 0.5593\n",
            "Epoch 81/400\n",
            "17/17 [==============================] - 0s 9ms/step - loss: 1.2041 - accuracy: 0.6628 - val_loss: 1.6257 - val_accuracy: 0.6102\n",
            "Epoch 82/400\n",
            "17/17 [==============================] - 0s 9ms/step - loss: 1.1698 - accuracy: 0.6475 - val_loss: 1.6344 - val_accuracy: 0.5763\n",
            "Epoch 83/400\n",
            "17/17 [==============================] - 0s 8ms/step - loss: 1.1579 - accuracy: 0.6590 - val_loss: 1.6188 - val_accuracy: 0.5763\n",
            "Epoch 84/400\n",
            "17/17 [==============================] - 0s 9ms/step - loss: 1.1293 - accuracy: 0.6973 - val_loss: 1.6148 - val_accuracy: 0.5763\n",
            "Epoch 85/400\n",
            "17/17 [==============================] - 0s 9ms/step - loss: 1.1893 - accuracy: 0.6628 - val_loss: 1.6191 - val_accuracy: 0.5763\n",
            "Epoch 86/400\n",
            "17/17 [==============================] - 0s 9ms/step - loss: 1.1741 - accuracy: 0.6705 - val_loss: 1.6093 - val_accuracy: 0.5593\n",
            "Epoch 87/400\n",
            "17/17 [==============================] - 0s 9ms/step - loss: 1.1368 - accuracy: 0.6762 - val_loss: 1.6141 - val_accuracy: 0.5763\n",
            "Epoch 88/400\n",
            "17/17 [==============================] - 0s 9ms/step - loss: 1.1547 - accuracy: 0.6533 - val_loss: 1.6239 - val_accuracy: 0.5424\n",
            "Epoch 89/400\n",
            "17/17 [==============================] - 0s 8ms/step - loss: 1.1167 - accuracy: 0.6801 - val_loss: 1.6051 - val_accuracy: 0.5763\n",
            "Epoch 90/400\n",
            "17/17 [==============================] - 0s 9ms/step - loss: 1.1531 - accuracy: 0.6513 - val_loss: 1.5946 - val_accuracy: 0.6102\n",
            "Epoch 91/400\n",
            "17/17 [==============================] - 0s 9ms/step - loss: 1.1487 - accuracy: 0.6590 - val_loss: 1.5903 - val_accuracy: 0.5763\n",
            "Epoch 92/400\n",
            "17/17 [==============================] - 0s 9ms/step - loss: 1.1182 - accuracy: 0.6897 - val_loss: 1.6147 - val_accuracy: 0.5254\n",
            "Epoch 93/400\n",
            "17/17 [==============================] - 0s 9ms/step - loss: 1.1150 - accuracy: 0.6667 - val_loss: 1.6205 - val_accuracy: 0.5763\n",
            "Epoch 94/400\n",
            "17/17 [==============================] - 0s 9ms/step - loss: 1.1025 - accuracy: 0.6954 - val_loss: 1.5914 - val_accuracy: 0.5763\n",
            "Epoch 95/400\n",
            "17/17 [==============================] - 0s 9ms/step - loss: 1.0985 - accuracy: 0.6935 - val_loss: 1.5821 - val_accuracy: 0.5424\n",
            "Epoch 96/400\n",
            "17/17 [==============================] - 0s 9ms/step - loss: 1.0971 - accuracy: 0.6705 - val_loss: 1.5874 - val_accuracy: 0.5763\n",
            "Epoch 97/400\n",
            "17/17 [==============================] - 0s 10ms/step - loss: 1.0679 - accuracy: 0.7011 - val_loss: 1.5769 - val_accuracy: 0.5763\n",
            "Epoch 98/400\n",
            "17/17 [==============================] - 0s 9ms/step - loss: 1.0632 - accuracy: 0.7203 - val_loss: 1.5793 - val_accuracy: 0.5424\n",
            "Epoch 99/400\n",
            "17/17 [==============================] - 0s 9ms/step - loss: 1.0737 - accuracy: 0.7165 - val_loss: 1.5812 - val_accuracy: 0.5593\n",
            "Epoch 100/400\n",
            "17/17 [==============================] - 0s 9ms/step - loss: 1.0566 - accuracy: 0.7050 - val_loss: 1.5900 - val_accuracy: 0.5932\n",
            "Epoch 101/400\n",
            "17/17 [==============================] - 0s 9ms/step - loss: 1.1033 - accuracy: 0.6724 - val_loss: 1.5818 - val_accuracy: 0.5932\n",
            "Epoch 102/400\n",
            "17/17 [==============================] - 0s 8ms/step - loss: 1.0758 - accuracy: 0.6839 - val_loss: 1.5754 - val_accuracy: 0.5763\n",
            "Epoch 103/400\n",
            "17/17 [==============================] - 0s 9ms/step - loss: 1.0441 - accuracy: 0.6897 - val_loss: 1.5906 - val_accuracy: 0.5424\n",
            "Epoch 104/400\n",
            "17/17 [==============================] - 0s 9ms/step - loss: 1.0673 - accuracy: 0.6992 - val_loss: 1.5742 - val_accuracy: 0.5932\n",
            "Epoch 105/400\n",
            "17/17 [==============================] - 0s 10ms/step - loss: 1.0561 - accuracy: 0.7031 - val_loss: 1.5676 - val_accuracy: 0.6102\n",
            "Epoch 106/400\n",
            "17/17 [==============================] - 0s 9ms/step - loss: 1.0641 - accuracy: 0.6801 - val_loss: 1.5867 - val_accuracy: 0.5593\n",
            "Epoch 107/400\n",
            "17/17 [==============================] - 0s 9ms/step - loss: 1.0608 - accuracy: 0.7050 - val_loss: 1.5729 - val_accuracy: 0.5593\n",
            "Epoch 108/400\n",
            "17/17 [==============================] - 0s 10ms/step - loss: 1.0422 - accuracy: 0.7050 - val_loss: 1.5764 - val_accuracy: 0.5593\n",
            "Epoch 109/400\n",
            "17/17 [==============================] - 0s 9ms/step - loss: 1.0095 - accuracy: 0.7318 - val_loss: 1.5858 - val_accuracy: 0.5593\n",
            "Epoch 110/400\n",
            "17/17 [==============================] - 0s 9ms/step - loss: 1.0223 - accuracy: 0.7031 - val_loss: 1.5433 - val_accuracy: 0.5593\n",
            "Epoch 111/400\n",
            "17/17 [==============================] - 0s 9ms/step - loss: 1.0103 - accuracy: 0.7184 - val_loss: 1.5538 - val_accuracy: 0.5763\n",
            "Epoch 112/400\n",
            "17/17 [==============================] - 0s 9ms/step - loss: 0.9799 - accuracy: 0.7088 - val_loss: 1.5581 - val_accuracy: 0.5763\n",
            "Epoch 113/400\n",
            "17/17 [==============================] - 0s 8ms/step - loss: 1.0098 - accuracy: 0.7031 - val_loss: 1.5443 - val_accuracy: 0.5763\n",
            "Epoch 114/400\n",
            "17/17 [==============================] - 0s 9ms/step - loss: 0.9859 - accuracy: 0.7031 - val_loss: 1.5561 - val_accuracy: 0.5932\n",
            "Epoch 115/400\n",
            "17/17 [==============================] - 0s 9ms/step - loss: 1.0083 - accuracy: 0.7107 - val_loss: 1.5567 - val_accuracy: 0.5593\n",
            "Epoch 116/400\n",
            "17/17 [==============================] - 0s 9ms/step - loss: 0.9781 - accuracy: 0.7222 - val_loss: 1.5709 - val_accuracy: 0.5593\n",
            "Epoch 117/400\n",
            "17/17 [==============================] - 0s 9ms/step - loss: 0.9505 - accuracy: 0.7318 - val_loss: 1.5443 - val_accuracy: 0.5593\n",
            "Epoch 118/400\n",
            "17/17 [==============================] - 0s 9ms/step - loss: 0.9811 - accuracy: 0.7337 - val_loss: 1.5479 - val_accuracy: 0.5932\n",
            "Epoch 119/400\n",
            "17/17 [==============================] - 0s 9ms/step - loss: 0.9532 - accuracy: 0.7337 - val_loss: 1.5401 - val_accuracy: 0.5424\n",
            "Epoch 120/400\n",
            "17/17 [==============================] - 0s 10ms/step - loss: 0.9588 - accuracy: 0.7184 - val_loss: 1.5340 - val_accuracy: 0.5593\n",
            "Epoch 121/400\n",
            "17/17 [==============================] - 0s 9ms/step - loss: 0.9848 - accuracy: 0.7280 - val_loss: 1.5173 - val_accuracy: 0.5763\n",
            "Epoch 122/400\n",
            "17/17 [==============================] - 0s 9ms/step - loss: 0.9729 - accuracy: 0.7471 - val_loss: 1.5405 - val_accuracy: 0.5763\n",
            "Epoch 123/400\n",
            "17/17 [==============================] - 0s 9ms/step - loss: 0.9458 - accuracy: 0.7529 - val_loss: 1.5581 - val_accuracy: 0.5593\n",
            "Epoch 124/400\n",
            "17/17 [==============================] - 0s 9ms/step - loss: 0.9785 - accuracy: 0.7299 - val_loss: 1.5266 - val_accuracy: 0.5593\n",
            "Epoch 125/400\n",
            "17/17 [==============================] - 0s 9ms/step - loss: 0.9556 - accuracy: 0.7107 - val_loss: 1.5233 - val_accuracy: 0.5593\n",
            "Epoch 126/400\n",
            "17/17 [==============================] - 0s 9ms/step - loss: 0.9485 - accuracy: 0.7471 - val_loss: 1.5527 - val_accuracy: 0.5593\n",
            "Epoch 127/400\n",
            "17/17 [==============================] - 0s 9ms/step - loss: 0.9804 - accuracy: 0.7318 - val_loss: 1.5629 - val_accuracy: 0.5763\n",
            "Epoch 128/400\n",
            "17/17 [==============================] - 0s 9ms/step - loss: 0.9069 - accuracy: 0.7395 - val_loss: 1.5436 - val_accuracy: 0.5593\n",
            "Epoch 129/400\n",
            "17/17 [==============================] - 0s 9ms/step - loss: 0.9036 - accuracy: 0.7490 - val_loss: 1.5468 - val_accuracy: 0.5763\n",
            "Epoch 130/400\n",
            "17/17 [==============================] - 0s 9ms/step - loss: 0.9021 - accuracy: 0.7567 - val_loss: 1.5317 - val_accuracy: 0.5763\n",
            "Epoch 131/400\n",
            "17/17 [==============================] - 0s 9ms/step - loss: 0.9422 - accuracy: 0.7318 - val_loss: 1.5335 - val_accuracy: 0.5593\n",
            "Epoch 132/400\n",
            "17/17 [==============================] - 0s 9ms/step - loss: 0.9439 - accuracy: 0.7069 - val_loss: 1.5359 - val_accuracy: 0.5763\n",
            "Epoch 133/400\n",
            "17/17 [==============================] - 0s 10ms/step - loss: 0.8910 - accuracy: 0.7720 - val_loss: 1.5385 - val_accuracy: 0.5424\n",
            "Epoch 134/400\n",
            "17/17 [==============================] - 0s 9ms/step - loss: 0.8969 - accuracy: 0.7414 - val_loss: 1.5233 - val_accuracy: 0.5593\n",
            "Epoch 135/400\n",
            "17/17 [==============================] - 0s 9ms/step - loss: 0.9273 - accuracy: 0.7375 - val_loss: 1.5231 - val_accuracy: 0.5932\n",
            "Epoch 136/400\n",
            "17/17 [==============================] - 0s 9ms/step - loss: 0.9098 - accuracy: 0.7337 - val_loss: 1.5286 - val_accuracy: 0.5424\n",
            "Epoch 137/400\n",
            "17/17 [==============================] - 0s 9ms/step - loss: 0.8988 - accuracy: 0.7452 - val_loss: 1.5352 - val_accuracy: 0.5085\n",
            "Epoch 138/400\n",
            "17/17 [==============================] - 0s 9ms/step - loss: 0.9243 - accuracy: 0.7165 - val_loss: 1.5070 - val_accuracy: 0.5424\n",
            "Epoch 139/400\n",
            "17/17 [==============================] - 0s 10ms/step - loss: 0.9079 - accuracy: 0.7471 - val_loss: 1.5212 - val_accuracy: 0.5932\n",
            "Epoch 140/400\n",
            "17/17 [==============================] - 0s 9ms/step - loss: 0.8935 - accuracy: 0.7510 - val_loss: 1.5267 - val_accuracy: 0.5254\n",
            "Epoch 141/400\n",
            "17/17 [==============================] - 0s 9ms/step - loss: 0.9286 - accuracy: 0.7318 - val_loss: 1.5147 - val_accuracy: 0.5593\n",
            "Epoch 142/400\n",
            "17/17 [==============================] - 0s 9ms/step - loss: 0.8627 - accuracy: 0.7701 - val_loss: 1.5263 - val_accuracy: 0.5424\n",
            "Epoch 143/400\n",
            "17/17 [==============================] - 0s 9ms/step - loss: 0.8655 - accuracy: 0.7701 - val_loss: 1.5150 - val_accuracy: 0.5593\n",
            "Epoch 144/400\n",
            "17/17 [==============================] - 0s 9ms/step - loss: 0.8863 - accuracy: 0.7586 - val_loss: 1.5088 - val_accuracy: 0.5593\n",
            "Epoch 145/400\n",
            "17/17 [==============================] - 0s 10ms/step - loss: 0.8693 - accuracy: 0.7567 - val_loss: 1.5422 - val_accuracy: 0.5763\n",
            "Epoch 146/400\n",
            "17/17 [==============================] - 0s 9ms/step - loss: 0.8519 - accuracy: 0.7663 - val_loss: 1.5283 - val_accuracy: 0.5593\n",
            "Epoch 147/400\n",
            "17/17 [==============================] - 0s 9ms/step - loss: 0.8363 - accuracy: 0.7874 - val_loss: 1.5115 - val_accuracy: 0.5593\n",
            "Epoch 148/400\n",
            "17/17 [==============================] - 0s 9ms/step - loss: 0.8548 - accuracy: 0.7663 - val_loss: 1.5018 - val_accuracy: 0.5254\n",
            "Epoch 149/400\n",
            "17/17 [==============================] - 0s 9ms/step - loss: 0.8664 - accuracy: 0.7663 - val_loss: 1.5160 - val_accuracy: 0.5424\n",
            "Epoch 150/400\n",
            "17/17 [==============================] - 0s 9ms/step - loss: 0.8577 - accuracy: 0.7490 - val_loss: 1.5295 - val_accuracy: 0.5424\n",
            "Epoch 151/400\n",
            "17/17 [==============================] - 0s 9ms/step - loss: 0.8566 - accuracy: 0.7682 - val_loss: 1.5322 - val_accuracy: 0.5424\n",
            "Epoch 152/400\n",
            "17/17 [==============================] - 0s 9ms/step - loss: 0.8439 - accuracy: 0.7548 - val_loss: 1.5250 - val_accuracy: 0.5254\n",
            "Epoch 153/400\n",
            "17/17 [==============================] - 0s 9ms/step - loss: 0.7822 - accuracy: 0.8161 - val_loss: 1.5125 - val_accuracy: 0.5254\n",
            "Epoch 154/400\n",
            "17/17 [==============================] - 0s 9ms/step - loss: 0.8183 - accuracy: 0.7950 - val_loss: 1.5309 - val_accuracy: 0.5254\n",
            "Epoch 155/400\n",
            "17/17 [==============================] - 0s 9ms/step - loss: 0.8251 - accuracy: 0.7471 - val_loss: 1.5200 - val_accuracy: 0.5593\n",
            "Epoch 156/400\n",
            "17/17 [==============================] - 0s 9ms/step - loss: 0.7996 - accuracy: 0.7931 - val_loss: 1.5065 - val_accuracy: 0.5424\n",
            "Epoch 157/400\n",
            "17/17 [==============================] - 0s 9ms/step - loss: 0.8191 - accuracy: 0.7816 - val_loss: 1.5253 - val_accuracy: 0.5254\n",
            "Epoch 158/400\n",
            "17/17 [==============================] - 0s 10ms/step - loss: 0.8005 - accuracy: 0.7931 - val_loss: 1.5339 - val_accuracy: 0.5254\n",
            "Epoch 159/400\n",
            "17/17 [==============================] - 0s 9ms/step - loss: 0.7824 - accuracy: 0.7893 - val_loss: 1.5144 - val_accuracy: 0.5254\n",
            "Epoch 160/400\n",
            "17/17 [==============================] - 0s 9ms/step - loss: 0.7844 - accuracy: 0.7835 - val_loss: 1.5128 - val_accuracy: 0.5424\n",
            "Epoch 161/400\n",
            "17/17 [==============================] - 0s 9ms/step - loss: 0.7790 - accuracy: 0.8084 - val_loss: 1.5314 - val_accuracy: 0.5254\n",
            "Epoch 162/400\n",
            "17/17 [==============================] - 0s 10ms/step - loss: 0.7923 - accuracy: 0.7950 - val_loss: 1.5179 - val_accuracy: 0.5254\n",
            "Epoch 163/400\n",
            "17/17 [==============================] - 0s 9ms/step - loss: 0.7680 - accuracy: 0.7912 - val_loss: 1.5197 - val_accuracy: 0.5424\n",
            "Epoch 164/400\n",
            "17/17 [==============================] - 0s 9ms/step - loss: 0.7689 - accuracy: 0.7989 - val_loss: 1.5119 - val_accuracy: 0.5424\n",
            "Epoch 165/400\n",
            "17/17 [==============================] - 0s 9ms/step - loss: 0.7931 - accuracy: 0.7893 - val_loss: 1.5277 - val_accuracy: 0.5254\n",
            "Epoch 166/400\n",
            "17/17 [==============================] - 0s 9ms/step - loss: 0.7844 - accuracy: 0.8142 - val_loss: 1.5154 - val_accuracy: 0.5254\n",
            "Epoch 167/400\n",
            "17/17 [==============================] - 0s 9ms/step - loss: 0.8119 - accuracy: 0.7548 - val_loss: 1.5132 - val_accuracy: 0.5254\n",
            "Epoch 168/400\n",
            "17/17 [==============================] - 0s 9ms/step - loss: 0.7774 - accuracy: 0.8027 - val_loss: 1.5166 - val_accuracy: 0.5424\n",
            "Epoch 169/400\n",
            "17/17 [==============================] - 0s 9ms/step - loss: 0.7781 - accuracy: 0.7797 - val_loss: 1.4943 - val_accuracy: 0.5254\n",
            "Epoch 170/400\n",
            "17/17 [==============================] - 0s 9ms/step - loss: 0.7368 - accuracy: 0.8084 - val_loss: 1.5142 - val_accuracy: 0.5424\n",
            "Epoch 171/400\n",
            "17/17 [==============================] - 0s 11ms/step - loss: 0.7317 - accuracy: 0.8123 - val_loss: 1.5057 - val_accuracy: 0.5254\n",
            "Epoch 172/400\n",
            "17/17 [==============================] - 0s 9ms/step - loss: 0.7436 - accuracy: 0.8142 - val_loss: 1.5059 - val_accuracy: 0.5254\n",
            "Epoch 173/400\n",
            "17/17 [==============================] - 0s 9ms/step - loss: 0.7584 - accuracy: 0.7912 - val_loss: 1.5072 - val_accuracy: 0.5593\n",
            "Epoch 174/400\n",
            "17/17 [==============================] - 0s 10ms/step - loss: 0.7534 - accuracy: 0.8008 - val_loss: 1.5051 - val_accuracy: 0.5254\n",
            "Epoch 175/400\n",
            "17/17 [==============================] - 0s 9ms/step - loss: 0.7526 - accuracy: 0.8103 - val_loss: 1.5104 - val_accuracy: 0.5424\n",
            "Epoch 176/400\n",
            "17/17 [==============================] - 0s 9ms/step - loss: 0.7278 - accuracy: 0.8199 - val_loss: 1.4952 - val_accuracy: 0.5085\n",
            "Epoch 177/400\n",
            "17/17 [==============================] - 0s 10ms/step - loss: 0.7309 - accuracy: 0.8161 - val_loss: 1.4983 - val_accuracy: 0.5254\n",
            "Epoch 178/400\n",
            "17/17 [==============================] - 0s 9ms/step - loss: 0.7203 - accuracy: 0.7931 - val_loss: 1.5285 - val_accuracy: 0.5085\n",
            "Epoch 179/400\n",
            "17/17 [==============================] - 0s 9ms/step - loss: 0.7238 - accuracy: 0.8314 - val_loss: 1.5041 - val_accuracy: 0.5424\n",
            "Epoch 180/400\n",
            "17/17 [==============================] - 0s 9ms/step - loss: 0.7556 - accuracy: 0.8027 - val_loss: 1.5103 - val_accuracy: 0.5254\n",
            "Epoch 181/400\n",
            "17/17 [==============================] - 0s 9ms/step - loss: 0.7243 - accuracy: 0.8218 - val_loss: 1.5110 - val_accuracy: 0.5254\n",
            "Epoch 182/400\n",
            "17/17 [==============================] - 0s 9ms/step - loss: 0.7026 - accuracy: 0.8238 - val_loss: 1.4992 - val_accuracy: 0.5254\n",
            "Epoch 183/400\n",
            "17/17 [==============================] - 0s 10ms/step - loss: 0.6989 - accuracy: 0.8084 - val_loss: 1.5061 - val_accuracy: 0.5254\n",
            "Epoch 184/400\n",
            "17/17 [==============================] - 0s 10ms/step - loss: 0.7068 - accuracy: 0.8276 - val_loss: 1.5004 - val_accuracy: 0.5085\n",
            "Epoch 185/400\n",
            "17/17 [==============================] - 0s 9ms/step - loss: 0.7246 - accuracy: 0.7989 - val_loss: 1.4951 - val_accuracy: 0.5254\n",
            "Epoch 186/400\n",
            "17/17 [==============================] - 0s 9ms/step - loss: 0.7211 - accuracy: 0.8008 - val_loss: 1.4930 - val_accuracy: 0.5254\n",
            "Epoch 187/400\n",
            "17/17 [==============================] - 0s 9ms/step - loss: 0.6835 - accuracy: 0.8123 - val_loss: 1.4996 - val_accuracy: 0.5085\n",
            "Epoch 188/400\n",
            "17/17 [==============================] - 0s 9ms/step - loss: 0.6889 - accuracy: 0.8295 - val_loss: 1.5203 - val_accuracy: 0.5085\n",
            "Epoch 189/400\n",
            "17/17 [==============================] - 0s 10ms/step - loss: 0.7172 - accuracy: 0.8123 - val_loss: 1.4944 - val_accuracy: 0.5085\n",
            "Epoch 190/400\n",
            "17/17 [==============================] - 0s 10ms/step - loss: 0.6871 - accuracy: 0.8257 - val_loss: 1.5079 - val_accuracy: 0.4915\n",
            "Epoch 191/400\n",
            "17/17 [==============================] - 0s 9ms/step - loss: 0.6706 - accuracy: 0.8410 - val_loss: 1.5025 - val_accuracy: 0.5254\n",
            "Epoch 192/400\n",
            "17/17 [==============================] - 0s 9ms/step - loss: 0.6812 - accuracy: 0.8333 - val_loss: 1.4902 - val_accuracy: 0.5085\n",
            "Epoch 193/400\n",
            "17/17 [==============================] - 0s 8ms/step - loss: 0.7020 - accuracy: 0.8084 - val_loss: 1.5125 - val_accuracy: 0.5254\n",
            "Epoch 194/400\n",
            "17/17 [==============================] - 0s 9ms/step - loss: 0.7055 - accuracy: 0.8103 - val_loss: 1.5073 - val_accuracy: 0.4915\n",
            "Epoch 195/400\n",
            "17/17 [==============================] - 0s 9ms/step - loss: 0.7037 - accuracy: 0.8123 - val_loss: 1.5063 - val_accuracy: 0.5254\n",
            "Epoch 196/400\n",
            "17/17 [==============================] - 0s 10ms/step - loss: 0.6804 - accuracy: 0.8257 - val_loss: 1.5149 - val_accuracy: 0.5085\n",
            "Epoch 197/400\n",
            "17/17 [==============================] - 0s 9ms/step - loss: 0.6821 - accuracy: 0.8276 - val_loss: 1.5500 - val_accuracy: 0.5085\n",
            "Epoch 198/400\n",
            "17/17 [==============================] - 0s 9ms/step - loss: 0.6628 - accuracy: 0.8391 - val_loss: 1.5071 - val_accuracy: 0.5254\n",
            "Epoch 199/400\n",
            "17/17 [==============================] - 0s 9ms/step - loss: 0.6815 - accuracy: 0.8161 - val_loss: 1.4991 - val_accuracy: 0.5424\n",
            "Epoch 200/400\n",
            "17/17 [==============================] - 0s 9ms/step - loss: 0.6713 - accuracy: 0.8467 - val_loss: 1.5102 - val_accuracy: 0.5254\n",
            "Epoch 201/400\n",
            "17/17 [==============================] - 0s 9ms/step - loss: 0.6489 - accuracy: 0.8238 - val_loss: 1.4965 - val_accuracy: 0.5254\n",
            "Epoch 202/400\n",
            "17/17 [==============================] - 0s 10ms/step - loss: 0.6603 - accuracy: 0.8199 - val_loss: 1.4958 - val_accuracy: 0.5254\n",
            "Epoch 203/400\n",
            "17/17 [==============================] - 0s 9ms/step - loss: 0.6733 - accuracy: 0.8295 - val_loss: 1.4961 - val_accuracy: 0.5593\n",
            "Epoch 204/400\n",
            "17/17 [==============================] - 0s 9ms/step - loss: 0.6278 - accuracy: 0.8487 - val_loss: 1.5058 - val_accuracy: 0.5424\n",
            "Epoch 205/400\n",
            "17/17 [==============================] - 0s 9ms/step - loss: 0.6526 - accuracy: 0.8352 - val_loss: 1.5113 - val_accuracy: 0.5424\n",
            "Epoch 206/400\n",
            "17/17 [==============================] - 0s 10ms/step - loss: 0.6649 - accuracy: 0.8314 - val_loss: 1.4847 - val_accuracy: 0.5254\n",
            "Epoch 207/400\n",
            "17/17 [==============================] - 0s 9ms/step - loss: 0.6260 - accuracy: 0.8391 - val_loss: 1.4747 - val_accuracy: 0.5254\n",
            "Epoch 208/400\n",
            "17/17 [==============================] - 0s 10ms/step - loss: 0.6316 - accuracy: 0.8372 - val_loss: 1.5048 - val_accuracy: 0.5254\n",
            "Epoch 209/400\n",
            "17/17 [==============================] - 0s 9ms/step - loss: 0.6256 - accuracy: 0.8640 - val_loss: 1.4938 - val_accuracy: 0.5424\n",
            "Epoch 210/400\n",
            "17/17 [==============================] - 0s 9ms/step - loss: 0.6264 - accuracy: 0.8276 - val_loss: 1.4847 - val_accuracy: 0.5254\n",
            "Epoch 211/400\n",
            "17/17 [==============================] - 0s 9ms/step - loss: 0.6039 - accuracy: 0.8506 - val_loss: 1.4876 - val_accuracy: 0.5254\n",
            "Epoch 212/400\n",
            "17/17 [==============================] - 0s 9ms/step - loss: 0.6303 - accuracy: 0.8333 - val_loss: 1.4759 - val_accuracy: 0.5254\n",
            "Epoch 213/400\n",
            "17/17 [==============================] - 0s 10ms/step - loss: 0.6307 - accuracy: 0.8372 - val_loss: 1.5106 - val_accuracy: 0.5254\n",
            "Epoch 214/400\n",
            "17/17 [==============================] - 0s 9ms/step - loss: 0.6593 - accuracy: 0.8372 - val_loss: 1.4990 - val_accuracy: 0.4915\n",
            "Epoch 215/400\n",
            "17/17 [==============================] - 0s 10ms/step - loss: 0.6114 - accuracy: 0.8352 - val_loss: 1.4951 - val_accuracy: 0.4915\n",
            "Epoch 216/400\n",
            "17/17 [==============================] - 0s 9ms/step - loss: 0.6053 - accuracy: 0.8448 - val_loss: 1.5084 - val_accuracy: 0.4915\n",
            "Epoch 217/400\n",
            "17/17 [==============================] - 0s 9ms/step - loss: 0.6307 - accuracy: 0.8448 - val_loss: 1.4870 - val_accuracy: 0.5254\n",
            "Epoch 218/400\n",
            "17/17 [==============================] - 0s 10ms/step - loss: 0.6192 - accuracy: 0.8410 - val_loss: 1.5118 - val_accuracy: 0.5424\n",
            "Epoch 219/400\n",
            "17/17 [==============================] - 0s 9ms/step - loss: 0.6131 - accuracy: 0.8621 - val_loss: 1.5173 - val_accuracy: 0.5254\n",
            "Epoch 220/400\n",
            "17/17 [==============================] - 0s 9ms/step - loss: 0.5879 - accuracy: 0.8602 - val_loss: 1.5084 - val_accuracy: 0.5085\n",
            "Epoch 221/400\n",
            "17/17 [==============================] - 0s 10ms/step - loss: 0.6442 - accuracy: 0.8410 - val_loss: 1.5183 - val_accuracy: 0.5085\n",
            "Epoch 222/400\n",
            "17/17 [==============================] - 0s 9ms/step - loss: 0.6051 - accuracy: 0.8467 - val_loss: 1.5003 - val_accuracy: 0.5254\n",
            "Epoch 223/400\n",
            "17/17 [==============================] - 0s 9ms/step - loss: 0.5945 - accuracy: 0.8544 - val_loss: 1.5350 - val_accuracy: 0.5424\n",
            "Epoch 224/400\n",
            "17/17 [==============================] - 0s 9ms/step - loss: 0.5921 - accuracy: 0.8716 - val_loss: 1.5086 - val_accuracy: 0.5085\n",
            "Epoch 225/400\n",
            "17/17 [==============================] - 0s 10ms/step - loss: 0.5931 - accuracy: 0.8678 - val_loss: 1.5301 - val_accuracy: 0.5254\n",
            "Epoch 226/400\n",
            "17/17 [==============================] - 0s 11ms/step - loss: 0.5646 - accuracy: 0.8563 - val_loss: 1.5385 - val_accuracy: 0.5085\n",
            "Epoch 227/400\n",
            "17/17 [==============================] - 0s 10ms/step - loss: 0.5813 - accuracy: 0.8697 - val_loss: 1.5310 - val_accuracy: 0.5254\n",
            "Epoch 228/400\n",
            "17/17 [==============================] - 0s 9ms/step - loss: 0.5907 - accuracy: 0.8774 - val_loss: 1.5229 - val_accuracy: 0.5424\n",
            "Epoch 229/400\n",
            "17/17 [==============================] - 0s 9ms/step - loss: 0.5463 - accuracy: 0.8889 - val_loss: 1.5043 - val_accuracy: 0.4915\n",
            "Epoch 230/400\n",
            "17/17 [==============================] - 0s 9ms/step - loss: 0.5559 - accuracy: 0.8831 - val_loss: 1.5113 - val_accuracy: 0.5085\n",
            "Epoch 231/400\n",
            "17/17 [==============================] - 0s 9ms/step - loss: 0.5962 - accuracy: 0.8525 - val_loss: 1.5263 - val_accuracy: 0.5254\n",
            "Epoch 232/400\n",
            "17/17 [==============================] - 0s 9ms/step - loss: 0.5829 - accuracy: 0.8391 - val_loss: 1.5302 - val_accuracy: 0.5085\n",
            "Epoch 233/400\n",
            "17/17 [==============================] - 0s 10ms/step - loss: 0.5833 - accuracy: 0.8410 - val_loss: 1.5121 - val_accuracy: 0.5254\n",
            "Epoch 234/400\n",
            "17/17 [==============================] - 0s 9ms/step - loss: 0.5600 - accuracy: 0.8678 - val_loss: 1.5262 - val_accuracy: 0.4746\n",
            "Epoch 235/400\n",
            "17/17 [==============================] - 0s 9ms/step - loss: 0.5529 - accuracy: 0.8793 - val_loss: 1.5156 - val_accuracy: 0.4746\n",
            "Epoch 236/400\n",
            "17/17 [==============================] - 0s 9ms/step - loss: 0.5647 - accuracy: 0.8697 - val_loss: 1.5126 - val_accuracy: 0.5085\n",
            "Epoch 237/400\n",
            "17/17 [==============================] - 0s 10ms/step - loss: 0.5872 - accuracy: 0.8602 - val_loss: 1.5284 - val_accuracy: 0.4915\n",
            "Epoch 238/400\n",
            "17/17 [==============================] - 0s 9ms/step - loss: 0.5611 - accuracy: 0.8621 - val_loss: 1.5347 - val_accuracy: 0.4915\n",
            "Epoch 239/400\n",
            "17/17 [==============================] - 0s 11ms/step - loss: 0.5384 - accuracy: 0.8736 - val_loss: 1.4962 - val_accuracy: 0.5424\n",
            "Epoch 240/400\n",
            "17/17 [==============================] - 0s 9ms/step - loss: 0.5246 - accuracy: 0.8812 - val_loss: 1.5404 - val_accuracy: 0.5085\n",
            "Epoch 241/400\n",
            "17/17 [==============================] - 0s 9ms/step - loss: 0.5651 - accuracy: 0.8621 - val_loss: 1.5500 - val_accuracy: 0.5254\n",
            "Epoch 242/400\n",
            "17/17 [==============================] - 0s 9ms/step - loss: 0.5609 - accuracy: 0.8678 - val_loss: 1.5281 - val_accuracy: 0.5254\n",
            "Epoch 243/400\n",
            "17/17 [==============================] - 0s 9ms/step - loss: 0.5669 - accuracy: 0.8755 - val_loss: 1.5436 - val_accuracy: 0.4915\n",
            "Epoch 244/400\n",
            "17/17 [==============================] - 0s 10ms/step - loss: 0.5636 - accuracy: 0.8716 - val_loss: 1.5019 - val_accuracy: 0.4915\n",
            "Epoch 245/400\n",
            "17/17 [==============================] - 0s 10ms/step - loss: 0.5532 - accuracy: 0.8678 - val_loss: 1.4963 - val_accuracy: 0.5085\n",
            "Epoch 246/400\n",
            "17/17 [==============================] - 0s 9ms/step - loss: 0.5229 - accuracy: 0.8927 - val_loss: 1.5151 - val_accuracy: 0.5254\n",
            "Epoch 247/400\n",
            "17/17 [==============================] - 0s 9ms/step - loss: 0.4985 - accuracy: 0.8870 - val_loss: 1.5053 - val_accuracy: 0.5085\n",
            "Epoch 248/400\n",
            "17/17 [==============================] - 0s 9ms/step - loss: 0.5586 - accuracy: 0.8525 - val_loss: 1.4945 - val_accuracy: 0.5254\n",
            "Epoch 249/400\n",
            "17/17 [==============================] - 0s 9ms/step - loss: 0.5075 - accuracy: 0.8908 - val_loss: 1.4912 - val_accuracy: 0.5424\n",
            "Epoch 250/400\n",
            "17/17 [==============================] - 0s 10ms/step - loss: 0.5370 - accuracy: 0.8736 - val_loss: 1.4667 - val_accuracy: 0.5085\n",
            "Epoch 251/400\n",
            "17/17 [==============================] - 0s 9ms/step - loss: 0.5325 - accuracy: 0.8736 - val_loss: 1.5108 - val_accuracy: 0.5085\n",
            "Epoch 252/400\n",
            "17/17 [==============================] - 0s 9ms/step - loss: 0.5545 - accuracy: 0.8831 - val_loss: 1.5158 - val_accuracy: 0.5085\n",
            "Epoch 253/400\n",
            "17/17 [==============================] - 0s 10ms/step - loss: 0.5271 - accuracy: 0.8889 - val_loss: 1.5004 - val_accuracy: 0.4746\n",
            "Epoch 254/400\n",
            "17/17 [==============================] - 0s 10ms/step - loss: 0.5302 - accuracy: 0.8697 - val_loss: 1.5067 - val_accuracy: 0.5085\n",
            "Epoch 255/400\n",
            "17/17 [==============================] - 0s 9ms/step - loss: 0.5293 - accuracy: 0.8697 - val_loss: 1.5174 - val_accuracy: 0.5424\n",
            "Epoch 256/400\n",
            "17/17 [==============================] - 0s 10ms/step - loss: 0.5144 - accuracy: 0.8793 - val_loss: 1.5141 - val_accuracy: 0.4915\n",
            "Epoch 257/400\n",
            "17/17 [==============================] - 0s 10ms/step - loss: 0.5485 - accuracy: 0.8659 - val_loss: 1.5179 - val_accuracy: 0.5085\n",
            "Epoch 258/400\n",
            "17/17 [==============================] - 0s 10ms/step - loss: 0.4698 - accuracy: 0.8966 - val_loss: 1.5775 - val_accuracy: 0.4915\n",
            "Epoch 259/400\n",
            "17/17 [==============================] - 0s 10ms/step - loss: 0.4993 - accuracy: 0.8697 - val_loss: 1.5535 - val_accuracy: 0.5254\n",
            "Epoch 260/400\n",
            "17/17 [==============================] - 0s 9ms/step - loss: 0.5166 - accuracy: 0.8812 - val_loss: 1.5264 - val_accuracy: 0.4746\n",
            "Epoch 261/400\n",
            "17/17 [==============================] - 0s 9ms/step - loss: 0.4996 - accuracy: 0.8966 - val_loss: 1.5222 - val_accuracy: 0.4915\n",
            "Epoch 262/400\n",
            "17/17 [==============================] - 0s 10ms/step - loss: 0.4918 - accuracy: 0.8908 - val_loss: 1.5377 - val_accuracy: 0.4746\n",
            "Epoch 263/400\n",
            "17/17 [==============================] - 0s 10ms/step - loss: 0.5031 - accuracy: 0.8870 - val_loss: 1.5285 - val_accuracy: 0.5085\n",
            "Epoch 264/400\n",
            "17/17 [==============================] - 0s 10ms/step - loss: 0.4991 - accuracy: 0.8812 - val_loss: 1.5252 - val_accuracy: 0.5085\n",
            "Epoch 265/400\n",
            "17/17 [==============================] - 0s 9ms/step - loss: 0.4821 - accuracy: 0.8946 - val_loss: 1.5243 - val_accuracy: 0.4576\n",
            "Epoch 266/400\n",
            "17/17 [==============================] - 0s 10ms/step - loss: 0.4913 - accuracy: 0.9061 - val_loss: 1.5509 - val_accuracy: 0.4237\n",
            "Epoch 267/400\n",
            "17/17 [==============================] - 0s 10ms/step - loss: 0.4916 - accuracy: 0.8908 - val_loss: 1.5137 - val_accuracy: 0.5085\n",
            "Epoch 268/400\n",
            "17/17 [==============================] - 0s 10ms/step - loss: 0.5298 - accuracy: 0.8678 - val_loss: 1.5256 - val_accuracy: 0.4237\n",
            "Epoch 269/400\n",
            "17/17 [==============================] - 0s 9ms/step - loss: 0.4710 - accuracy: 0.8946 - val_loss: 1.5242 - val_accuracy: 0.4746\n",
            "Epoch 270/400\n",
            "17/17 [==============================] - 0s 10ms/step - loss: 0.4981 - accuracy: 0.8736 - val_loss: 1.5269 - val_accuracy: 0.4746\n",
            "Epoch 271/400\n",
            "17/17 [==============================] - 0s 10ms/step - loss: 0.4359 - accuracy: 0.9253 - val_loss: 1.5285 - val_accuracy: 0.4576\n",
            "Epoch 272/400\n",
            "17/17 [==============================] - 0s 9ms/step - loss: 0.4890 - accuracy: 0.8812 - val_loss: 1.5275 - val_accuracy: 0.4407\n",
            "Epoch 273/400\n",
            "17/17 [==============================] - 0s 10ms/step - loss: 0.4797 - accuracy: 0.8985 - val_loss: 1.5037 - val_accuracy: 0.4915\n",
            "Epoch 274/400\n",
            "17/17 [==============================] - 0s 10ms/step - loss: 0.4900 - accuracy: 0.8966 - val_loss: 1.5019 - val_accuracy: 0.5085\n",
            "Epoch 275/400\n",
            "17/17 [==============================] - 0s 9ms/step - loss: 0.4721 - accuracy: 0.8985 - val_loss: 1.5599 - val_accuracy: 0.4576\n",
            "Epoch 276/400\n",
            "17/17 [==============================] - 0s 10ms/step - loss: 0.4897 - accuracy: 0.8927 - val_loss: 1.5402 - val_accuracy: 0.5085\n",
            "Epoch 277/400\n",
            "17/17 [==============================] - 0s 10ms/step - loss: 0.4534 - accuracy: 0.9080 - val_loss: 1.5243 - val_accuracy: 0.4407\n",
            "Epoch 278/400\n",
            "17/17 [==============================] - 0s 10ms/step - loss: 0.4946 - accuracy: 0.8812 - val_loss: 1.5313 - val_accuracy: 0.4746\n",
            "Epoch 279/400\n",
            "17/17 [==============================] - 0s 10ms/step - loss: 0.4530 - accuracy: 0.8985 - val_loss: 1.5294 - val_accuracy: 0.4576\n",
            "Epoch 280/400\n",
            "17/17 [==============================] - 0s 10ms/step - loss: 0.4401 - accuracy: 0.9023 - val_loss: 1.5526 - val_accuracy: 0.5085\n",
            "Epoch 281/400\n",
            "17/17 [==============================] - 0s 9ms/step - loss: 0.4364 - accuracy: 0.9080 - val_loss: 1.5467 - val_accuracy: 0.5085\n",
            "Epoch 282/400\n",
            "17/17 [==============================] - 0s 10ms/step - loss: 0.5055 - accuracy: 0.8640 - val_loss: 1.5414 - val_accuracy: 0.4915\n",
            "Epoch 283/400\n",
            "17/17 [==============================] - 0s 9ms/step - loss: 0.5184 - accuracy: 0.8640 - val_loss: 1.5283 - val_accuracy: 0.4746\n",
            "Epoch 284/400\n",
            "17/17 [==============================] - 0s 10ms/step - loss: 0.4454 - accuracy: 0.9080 - val_loss: 1.5390 - val_accuracy: 0.4915\n",
            "Epoch 285/400\n",
            "17/17 [==============================] - 0s 9ms/step - loss: 0.4859 - accuracy: 0.8870 - val_loss: 1.5145 - val_accuracy: 0.4915\n",
            "Epoch 286/400\n",
            "17/17 [==============================] - 0s 10ms/step - loss: 0.4829 - accuracy: 0.8736 - val_loss: 1.5378 - val_accuracy: 0.4915\n",
            "Epoch 287/400\n",
            "17/17 [==============================] - 0s 9ms/step - loss: 0.4652 - accuracy: 0.8927 - val_loss: 1.5274 - val_accuracy: 0.4915\n",
            "Epoch 288/400\n",
            "17/17 [==============================] - 0s 10ms/step - loss: 0.4535 - accuracy: 0.8927 - val_loss: 1.5311 - val_accuracy: 0.5254\n",
            "Epoch 289/400\n",
            "17/17 [==============================] - 0s 11ms/step - loss: 0.4465 - accuracy: 0.8966 - val_loss: 1.5249 - val_accuracy: 0.5085\n",
            "Epoch 290/400\n",
            "17/17 [==============================] - 0s 10ms/step - loss: 0.4321 - accuracy: 0.9253 - val_loss: 1.5276 - val_accuracy: 0.5085\n",
            "Epoch 291/400\n",
            "17/17 [==============================] - 0s 10ms/step - loss: 0.4415 - accuracy: 0.9138 - val_loss: 1.5544 - val_accuracy: 0.4915\n",
            "Epoch 292/400\n",
            "17/17 [==============================] - 0s 10ms/step - loss: 0.4350 - accuracy: 0.9138 - val_loss: 1.5306 - val_accuracy: 0.5085\n",
            "Epoch 293/400\n",
            "17/17 [==============================] - 0s 10ms/step - loss: 0.4282 - accuracy: 0.9215 - val_loss: 1.5451 - val_accuracy: 0.5085\n",
            "Epoch 294/400\n",
            "17/17 [==============================] - 0s 10ms/step - loss: 0.4291 - accuracy: 0.9080 - val_loss: 1.5396 - val_accuracy: 0.4576\n",
            "Epoch 295/400\n",
            "17/17 [==============================] - 0s 9ms/step - loss: 0.4294 - accuracy: 0.9061 - val_loss: 1.5530 - val_accuracy: 0.4746\n",
            "Epoch 296/400\n",
            "17/17 [==============================] - 0s 9ms/step - loss: 0.4104 - accuracy: 0.9138 - val_loss: 1.5475 - val_accuracy: 0.4576\n",
            "Epoch 297/400\n",
            "17/17 [==============================] - 0s 10ms/step - loss: 0.4542 - accuracy: 0.9023 - val_loss: 1.5436 - val_accuracy: 0.4576\n",
            "Epoch 298/400\n",
            "17/17 [==============================] - 0s 10ms/step - loss: 0.4304 - accuracy: 0.9042 - val_loss: 1.5562 - val_accuracy: 0.4915\n",
            "Epoch 299/400\n",
            "17/17 [==============================] - 0s 10ms/step - loss: 0.4587 - accuracy: 0.8908 - val_loss: 1.5508 - val_accuracy: 0.4407\n",
            "Epoch 300/400\n",
            "17/17 [==============================] - 0s 11ms/step - loss: 0.4316 - accuracy: 0.9080 - val_loss: 1.5532 - val_accuracy: 0.4915\n",
            "Epoch 301/400\n",
            "17/17 [==============================] - 0s 10ms/step - loss: 0.4318 - accuracy: 0.9100 - val_loss: 1.5707 - val_accuracy: 0.4576\n",
            "Epoch 302/400\n",
            "17/17 [==============================] - 0s 10ms/step - loss: 0.4522 - accuracy: 0.9080 - val_loss: 1.5720 - val_accuracy: 0.4407\n",
            "Epoch 303/400\n",
            "17/17 [==============================] - 0s 9ms/step - loss: 0.4231 - accuracy: 0.9004 - val_loss: 1.5396 - val_accuracy: 0.4576\n",
            "Epoch 304/400\n",
            "17/17 [==============================] - 0s 9ms/step - loss: 0.4233 - accuracy: 0.9138 - val_loss: 1.5571 - val_accuracy: 0.4407\n",
            "Epoch 305/400\n",
            "17/17 [==============================] - 0s 10ms/step - loss: 0.4317 - accuracy: 0.9138 - val_loss: 1.5626 - val_accuracy: 0.4746\n",
            "Epoch 306/400\n",
            "17/17 [==============================] - 0s 10ms/step - loss: 0.4259 - accuracy: 0.9138 - val_loss: 1.5747 - val_accuracy: 0.4746\n",
            "Epoch 307/400\n",
            "17/17 [==============================] - 0s 9ms/step - loss: 0.4152 - accuracy: 0.9176 - val_loss: 1.5857 - val_accuracy: 0.4576\n",
            "Epoch 308/400\n",
            "17/17 [==============================] - 0s 10ms/step - loss: 0.3939 - accuracy: 0.9368 - val_loss: 1.5982 - val_accuracy: 0.4407\n",
            "Epoch 309/400\n",
            "17/17 [==============================] - 0s 9ms/step - loss: 0.4357 - accuracy: 0.9061 - val_loss: 1.5949 - val_accuracy: 0.4915\n",
            "Epoch 310/400\n",
            "17/17 [==============================] - 0s 10ms/step - loss: 0.3951 - accuracy: 0.9253 - val_loss: 1.5896 - val_accuracy: 0.4746\n",
            "Epoch 311/400\n",
            "17/17 [==============================] - 0s 9ms/step - loss: 0.4035 - accuracy: 0.9138 - val_loss: 1.5830 - val_accuracy: 0.4915\n",
            "Epoch 312/400\n",
            "17/17 [==============================] - 0s 10ms/step - loss: 0.4209 - accuracy: 0.9042 - val_loss: 1.6103 - val_accuracy: 0.4576\n",
            "Epoch 313/400\n",
            "17/17 [==============================] - 0s 9ms/step - loss: 0.4206 - accuracy: 0.9176 - val_loss: 1.6342 - val_accuracy: 0.4237\n",
            "Epoch 314/400\n",
            "17/17 [==============================] - 0s 9ms/step - loss: 0.4144 - accuracy: 0.9195 - val_loss: 1.6117 - val_accuracy: 0.4746\n",
            "Epoch 315/400\n",
            "17/17 [==============================] - 0s 10ms/step - loss: 0.3885 - accuracy: 0.9138 - val_loss: 1.6404 - val_accuracy: 0.4237\n",
            "Epoch 316/400\n",
            "17/17 [==============================] - 0s 10ms/step - loss: 0.3886 - accuracy: 0.9253 - val_loss: 1.5890 - val_accuracy: 0.4576\n",
            "Epoch 317/400\n",
            "17/17 [==============================] - 0s 9ms/step - loss: 0.4120 - accuracy: 0.9157 - val_loss: 1.6389 - val_accuracy: 0.4407\n",
            "Epoch 318/400\n",
            "17/17 [==============================] - 0s 10ms/step - loss: 0.3911 - accuracy: 0.9253 - val_loss: 1.6109 - val_accuracy: 0.4746\n",
            "Epoch 319/400\n",
            "17/17 [==============================] - 0s 10ms/step - loss: 0.4239 - accuracy: 0.9157 - val_loss: 1.6006 - val_accuracy: 0.4746\n",
            "Epoch 320/400\n",
            "17/17 [==============================] - 0s 10ms/step - loss: 0.3832 - accuracy: 0.9406 - val_loss: 1.6279 - val_accuracy: 0.4576\n",
            "Epoch 321/400\n",
            "17/17 [==============================] - 0s 10ms/step - loss: 0.3973 - accuracy: 0.9215 - val_loss: 1.6054 - val_accuracy: 0.4576\n",
            "Epoch 322/400\n",
            "17/17 [==============================] - 0s 10ms/step - loss: 0.3990 - accuracy: 0.9080 - val_loss: 1.6168 - val_accuracy: 0.4576\n",
            "Epoch 323/400\n",
            "17/17 [==============================] - 0s 9ms/step - loss: 0.4028 - accuracy: 0.9195 - val_loss: 1.6436 - val_accuracy: 0.4407\n",
            "Epoch 324/400\n",
            "17/17 [==============================] - 0s 10ms/step - loss: 0.4122 - accuracy: 0.9272 - val_loss: 1.6178 - val_accuracy: 0.4576\n",
            "Epoch 325/400\n",
            "17/17 [==============================] - 0s 9ms/step - loss: 0.3766 - accuracy: 0.9387 - val_loss: 1.5877 - val_accuracy: 0.4915\n",
            "Epoch 326/400\n",
            "17/17 [==============================] - 0s 9ms/step - loss: 0.3621 - accuracy: 0.9406 - val_loss: 1.6030 - val_accuracy: 0.4576\n",
            "Epoch 327/400\n",
            "17/17 [==============================] - 0s 10ms/step - loss: 0.3833 - accuracy: 0.9234 - val_loss: 1.6030 - val_accuracy: 0.4746\n",
            "Epoch 328/400\n",
            "17/17 [==============================] - 0s 10ms/step - loss: 0.4030 - accuracy: 0.9061 - val_loss: 1.6234 - val_accuracy: 0.4915\n",
            "Epoch 329/400\n",
            "17/17 [==============================] - 0s 9ms/step - loss: 0.3793 - accuracy: 0.9272 - val_loss: 1.6401 - val_accuracy: 0.4746\n",
            "Epoch 330/400\n",
            "17/17 [==============================] - 0s 10ms/step - loss: 0.4080 - accuracy: 0.9157 - val_loss: 1.6221 - val_accuracy: 0.4915\n",
            "Epoch 331/400\n",
            "17/17 [==============================] - 0s 10ms/step - loss: 0.3778 - accuracy: 0.9253 - val_loss: 1.5682 - val_accuracy: 0.4407\n",
            "Epoch 332/400\n",
            "17/17 [==============================] - 0s 10ms/step - loss: 0.3865 - accuracy: 0.9368 - val_loss: 1.6023 - val_accuracy: 0.4576\n",
            "Epoch 333/400\n",
            "17/17 [==============================] - 0s 10ms/step - loss: 0.3694 - accuracy: 0.9330 - val_loss: 1.6165 - val_accuracy: 0.4407\n",
            "Epoch 334/400\n",
            "17/17 [==============================] - 0s 9ms/step - loss: 0.4004 - accuracy: 0.9310 - val_loss: 1.7172 - val_accuracy: 0.4576\n",
            "Epoch 335/400\n",
            "17/17 [==============================] - 0s 10ms/step - loss: 0.3835 - accuracy: 0.9272 - val_loss: 1.6655 - val_accuracy: 0.4068\n",
            "Epoch 336/400\n",
            "17/17 [==============================] - 0s 11ms/step - loss: 0.3815 - accuracy: 0.9349 - val_loss: 1.6662 - val_accuracy: 0.4407\n",
            "Epoch 337/400\n",
            "17/17 [==============================] - 0s 9ms/step - loss: 0.3826 - accuracy: 0.9157 - val_loss: 1.5942 - val_accuracy: 0.4746\n",
            "Epoch 338/400\n",
            "17/17 [==============================] - 0s 10ms/step - loss: 0.3887 - accuracy: 0.9291 - val_loss: 1.6186 - val_accuracy: 0.4576\n",
            "Epoch 339/400\n",
            "17/17 [==============================] - 0s 10ms/step - loss: 0.3687 - accuracy: 0.9310 - val_loss: 1.6254 - val_accuracy: 0.4746\n",
            "Epoch 340/400\n",
            "17/17 [==============================] - 0s 10ms/step - loss: 0.3603 - accuracy: 0.9387 - val_loss: 1.6187 - val_accuracy: 0.4576\n",
            "Epoch 341/400\n",
            "17/17 [==============================] - 0s 10ms/step - loss: 0.3811 - accuracy: 0.9349 - val_loss: 1.6273 - val_accuracy: 0.4915\n",
            "Epoch 342/400\n",
            "17/17 [==============================] - 0s 10ms/step - loss: 0.3467 - accuracy: 0.9349 - val_loss: 1.6606 - val_accuracy: 0.4915\n",
            "Epoch 343/400\n",
            "17/17 [==============================] - 0s 10ms/step - loss: 0.3620 - accuracy: 0.9330 - val_loss: 1.6500 - val_accuracy: 0.4576\n",
            "Epoch 344/400\n",
            "17/17 [==============================] - 0s 10ms/step - loss: 0.3514 - accuracy: 0.9387 - val_loss: 1.6533 - val_accuracy: 0.4746\n",
            "Epoch 345/400\n",
            "17/17 [==============================] - 0s 10ms/step - loss: 0.3701 - accuracy: 0.9234 - val_loss: 1.6211 - val_accuracy: 0.4746\n",
            "Epoch 346/400\n",
            "17/17 [==============================] - 0s 10ms/step - loss: 0.3478 - accuracy: 0.9387 - val_loss: 1.6609 - val_accuracy: 0.4915\n",
            "Epoch 347/400\n",
            "17/17 [==============================] - 0s 10ms/step - loss: 0.3632 - accuracy: 0.9330 - val_loss: 1.6371 - val_accuracy: 0.4576\n",
            "Epoch 348/400\n",
            "17/17 [==============================] - 0s 10ms/step - loss: 0.3551 - accuracy: 0.9406 - val_loss: 1.6243 - val_accuracy: 0.4746\n",
            "Epoch 349/400\n",
            "17/17 [==============================] - 0s 10ms/step - loss: 0.3579 - accuracy: 0.9368 - val_loss: 1.6412 - val_accuracy: 0.4407\n",
            "Epoch 350/400\n",
            "17/17 [==============================] - 0s 9ms/step - loss: 0.3606 - accuracy: 0.9234 - val_loss: 1.6319 - val_accuracy: 0.4746\n",
            "Epoch 351/400\n",
            "17/17 [==============================] - 0s 10ms/step - loss: 0.3309 - accuracy: 0.9406 - val_loss: 1.6959 - val_accuracy: 0.4576\n",
            "Epoch 352/400\n",
            "17/17 [==============================] - 0s 9ms/step - loss: 0.3474 - accuracy: 0.9406 - val_loss: 1.6583 - val_accuracy: 0.4746\n",
            "Epoch 353/400\n",
            "17/17 [==============================] - 0s 9ms/step - loss: 0.3445 - accuracy: 0.9349 - val_loss: 1.6498 - val_accuracy: 0.4746\n",
            "Epoch 354/400\n",
            "17/17 [==============================] - 0s 10ms/step - loss: 0.3269 - accuracy: 0.9540 - val_loss: 1.6332 - val_accuracy: 0.4407\n",
            "Epoch 355/400\n",
            "17/17 [==============================] - 0s 10ms/step - loss: 0.3412 - accuracy: 0.9368 - val_loss: 1.6150 - val_accuracy: 0.4237\n",
            "Epoch 356/400\n",
            "17/17 [==============================] - 0s 10ms/step - loss: 0.3098 - accuracy: 0.9444 - val_loss: 1.6431 - val_accuracy: 0.4237\n",
            "Epoch 357/400\n",
            "17/17 [==============================] - 0s 10ms/step - loss: 0.3138 - accuracy: 0.9521 - val_loss: 1.6425 - val_accuracy: 0.4407\n",
            "Epoch 358/400\n",
            "17/17 [==============================] - 0s 10ms/step - loss: 0.3171 - accuracy: 0.9502 - val_loss: 1.6749 - val_accuracy: 0.4576\n",
            "Epoch 359/400\n",
            "17/17 [==============================] - 0s 10ms/step - loss: 0.3167 - accuracy: 0.9483 - val_loss: 1.6425 - val_accuracy: 0.4915\n",
            "Epoch 360/400\n",
            "17/17 [==============================] - 0s 10ms/step - loss: 0.3251 - accuracy: 0.9483 - val_loss: 1.6614 - val_accuracy: 0.4576\n",
            "Epoch 361/400\n",
            "17/17 [==============================] - 0s 10ms/step - loss: 0.3596 - accuracy: 0.9291 - val_loss: 1.6574 - val_accuracy: 0.4576\n",
            "Epoch 362/400\n",
            "17/17 [==============================] - 0s 10ms/step - loss: 0.3509 - accuracy: 0.9387 - val_loss: 1.6854 - val_accuracy: 0.4068\n",
            "Epoch 363/400\n",
            "17/17 [==============================] - 0s 10ms/step - loss: 0.3308 - accuracy: 0.9387 - val_loss: 1.7261 - val_accuracy: 0.4407\n",
            "Epoch 364/400\n",
            "17/17 [==============================] - 0s 9ms/step - loss: 0.3614 - accuracy: 0.9253 - val_loss: 1.6769 - val_accuracy: 0.4237\n",
            "Epoch 365/400\n",
            "17/17 [==============================] - 0s 10ms/step - loss: 0.3379 - accuracy: 0.9349 - val_loss: 1.7079 - val_accuracy: 0.4576\n",
            "Epoch 366/400\n",
            "17/17 [==============================] - 0s 10ms/step - loss: 0.3239 - accuracy: 0.9521 - val_loss: 1.6899 - val_accuracy: 0.4407\n",
            "Epoch 367/400\n",
            "17/17 [==============================] - 0s 10ms/step - loss: 0.3208 - accuracy: 0.9387 - val_loss: 1.6601 - val_accuracy: 0.4576\n",
            "Epoch 368/400\n",
            "17/17 [==============================] - 0s 10ms/step - loss: 0.3249 - accuracy: 0.9406 - val_loss: 1.6895 - val_accuracy: 0.4576\n",
            "Epoch 369/400\n",
            "17/17 [==============================] - 0s 10ms/step - loss: 0.3275 - accuracy: 0.9483 - val_loss: 1.6728 - val_accuracy: 0.4407\n",
            "Epoch 370/400\n",
            "17/17 [==============================] - 0s 10ms/step - loss: 0.3293 - accuracy: 0.9330 - val_loss: 1.6858 - val_accuracy: 0.4915\n",
            "Epoch 371/400\n",
            "17/17 [==============================] - 0s 11ms/step - loss: 0.3238 - accuracy: 0.9540 - val_loss: 1.6801 - val_accuracy: 0.4915\n",
            "Epoch 372/400\n",
            "17/17 [==============================] - 0s 11ms/step - loss: 0.3240 - accuracy: 0.9310 - val_loss: 1.6498 - val_accuracy: 0.5085\n",
            "Epoch 373/400\n",
            "17/17 [==============================] - 0s 10ms/step - loss: 0.2929 - accuracy: 0.9674 - val_loss: 1.6275 - val_accuracy: 0.4576\n",
            "Epoch 374/400\n",
            "17/17 [==============================] - 0s 10ms/step - loss: 0.3371 - accuracy: 0.9368 - val_loss: 1.6680 - val_accuracy: 0.4576\n",
            "Epoch 375/400\n",
            "17/17 [==============================] - 0s 10ms/step - loss: 0.3391 - accuracy: 0.9272 - val_loss: 1.7014 - val_accuracy: 0.4746\n",
            "Epoch 376/400\n",
            "17/17 [==============================] - 0s 10ms/step - loss: 0.3321 - accuracy: 0.9368 - val_loss: 1.6455 - val_accuracy: 0.4407\n",
            "Epoch 377/400\n",
            "17/17 [==============================] - 0s 12ms/step - loss: 0.3269 - accuracy: 0.9272 - val_loss: 1.6668 - val_accuracy: 0.4746\n",
            "Epoch 378/400\n",
            "17/17 [==============================] - 0s 10ms/step - loss: 0.3410 - accuracy: 0.9368 - val_loss: 1.6641 - val_accuracy: 0.4407\n",
            "Epoch 379/400\n",
            "17/17 [==============================] - 0s 10ms/step - loss: 0.3147 - accuracy: 0.9521 - val_loss: 1.6619 - val_accuracy: 0.4407\n",
            "Epoch 380/400\n",
            "17/17 [==============================] - 0s 10ms/step - loss: 0.3113 - accuracy: 0.9387 - val_loss: 1.6643 - val_accuracy: 0.4915\n",
            "Epoch 381/400\n",
            "17/17 [==============================] - 0s 10ms/step - loss: 0.3226 - accuracy: 0.9406 - val_loss: 1.6792 - val_accuracy: 0.4576\n",
            "Epoch 382/400\n",
            "17/17 [==============================] - 0s 11ms/step - loss: 0.3128 - accuracy: 0.9444 - val_loss: 1.6624 - val_accuracy: 0.4746\n",
            "Epoch 383/400\n",
            "17/17 [==============================] - 0s 10ms/step - loss: 0.2980 - accuracy: 0.9559 - val_loss: 1.6202 - val_accuracy: 0.4915\n",
            "Epoch 384/400\n",
            "17/17 [==============================] - 0s 9ms/step - loss: 0.3025 - accuracy: 0.9483 - val_loss: 1.6659 - val_accuracy: 0.4915\n",
            "Epoch 385/400\n",
            "17/17 [==============================] - 0s 10ms/step - loss: 0.3384 - accuracy: 0.9387 - val_loss: 1.6927 - val_accuracy: 0.4746\n",
            "Epoch 386/400\n",
            "17/17 [==============================] - 0s 10ms/step - loss: 0.2957 - accuracy: 0.9540 - val_loss: 1.6723 - val_accuracy: 0.4576\n",
            "Epoch 387/400\n",
            "17/17 [==============================] - 0s 10ms/step - loss: 0.3084 - accuracy: 0.9464 - val_loss: 1.6741 - val_accuracy: 0.4576\n",
            "Epoch 388/400\n",
            "17/17 [==============================] - 0s 10ms/step - loss: 0.3102 - accuracy: 0.9406 - val_loss: 1.6873 - val_accuracy: 0.4576\n",
            "Epoch 389/400\n",
            "17/17 [==============================] - 0s 10ms/step - loss: 0.3435 - accuracy: 0.9215 - val_loss: 1.6931 - val_accuracy: 0.4746\n",
            "Epoch 390/400\n",
            "17/17 [==============================] - 0s 10ms/step - loss: 0.2982 - accuracy: 0.9406 - val_loss: 1.6956 - val_accuracy: 0.4915\n",
            "Epoch 391/400\n",
            "17/17 [==============================] - 0s 10ms/step - loss: 0.3065 - accuracy: 0.9464 - val_loss: 1.7289 - val_accuracy: 0.4915\n",
            "Epoch 392/400\n",
            "17/17 [==============================] - 0s 10ms/step - loss: 0.3233 - accuracy: 0.9368 - val_loss: 1.6784 - val_accuracy: 0.4576\n",
            "Epoch 393/400\n",
            "17/17 [==============================] - 0s 10ms/step - loss: 0.2816 - accuracy: 0.9674 - val_loss: 1.6585 - val_accuracy: 0.4746\n",
            "Epoch 394/400\n",
            "17/17 [==============================] - 0s 10ms/step - loss: 0.2995 - accuracy: 0.9559 - val_loss: 1.7136 - val_accuracy: 0.4237\n",
            "Epoch 395/400\n",
            "17/17 [==============================] - 0s 10ms/step - loss: 0.2923 - accuracy: 0.9521 - val_loss: 1.6915 - val_accuracy: 0.4746\n",
            "Epoch 396/400\n",
            "17/17 [==============================] - 0s 10ms/step - loss: 0.2861 - accuracy: 0.9464 - val_loss: 1.6898 - val_accuracy: 0.4746\n",
            "Epoch 397/400\n",
            "17/17 [==============================] - 0s 10ms/step - loss: 0.2852 - accuracy: 0.9464 - val_loss: 1.6832 - val_accuracy: 0.4746\n",
            "Epoch 398/400\n",
            "17/17 [==============================] - 0s 10ms/step - loss: 0.2784 - accuracy: 0.9674 - val_loss: 1.6988 - val_accuracy: 0.4576\n",
            "Epoch 399/400\n",
            "17/17 [==============================] - 0s 10ms/step - loss: 0.2877 - accuracy: 0.9559 - val_loss: 1.6904 - val_accuracy: 0.4407\n",
            "Epoch 400/400\n",
            "17/17 [==============================] - 0s 10ms/step - loss: 0.2919 - accuracy: 0.9521 - val_loss: 1.6974 - val_accuracy: 0.4576\n"
          ]
        }
      ],
      "source": [
        "## Trianing my model\n",
        "num_epochs = 400\n",
        "num_batch_size = 32\n",
        "\n",
        "history = model.fit(X_train, y_train, validation_data=(X_val, y_val), batch_size=num_batch_size, epochs=num_epochs, verbose=1)\n",
        "\n",
        "\n"
      ]
    },
    {
      "cell_type": "code",
      "source": [
        "# evaluate model on test set\n",
        "test_loss, testr_acc = model.evaluate(X_test, y_test, verbose=2)"
      ],
      "metadata": {
        "id": "Fq3mqdLESOsf"
      },
      "execution_count": null,
      "outputs": []
    },
    {
      "cell_type": "code",
      "source": [
        "print('\\nTest accuracy:', test_acc)"
      ],
      "metadata": {
        "colab": {
          "base_uri": "https://localhost:8080/"
        },
        "id": "06NUsMzUlgBk",
        "outputId": "fe29aee4-f100-4980-a137-caa2ca92b5e1"
      },
      "execution_count": 50,
      "outputs": [
        {
          "output_type": "stream",
          "name": "stdout",
          "text": [
            "\n",
            "Test accuracy: 71.2456\n"
          ]
        }
      ]
    },
    {
      "cell_type": "code",
      "source": [
        "def predict(model, X, y):\n",
        "    \"\"\"Predict a single sample using the trained model\n",
        "    :param model: Trained classifier\n",
        "    :param X: Input data\n",
        "    :param y (int): Target\n",
        "    \"\"\"\n",
        "\n",
        "    # add a dimension to input data for sample - model.predict() expects a 4d array in this case\n",
        "    X = X[np.newaxis, ...] # array shape (1, 130, 13, 1)\n",
        "\n",
        "    # perform prediction\n",
        "    prediction = model.predict(X)\n",
        "\n",
        "    # get index with max value\n",
        "    predicted_index = np.argmax(prediction, axis=1)\n",
        "\n",
        "    print(\"Target: {}, Predicted label: {}\".format(y, predicted_index))"
      ],
      "metadata": {
        "id": "pQBuhaZ6VuUa"
      },
      "execution_count": 37,
      "outputs": []
    },
    {
      "cell_type": "code",
      "source": [
        "# pick a sample to predict from the test set\n",
        "X_to_predict = X_test[2]\n",
        "y_to_predict = y_test[2]\n",
        "\n",
        "# predict sample\n",
        "predict(model, X_to_predict, y_to_predict)"
      ],
      "metadata": {
        "colab": {
          "base_uri": "https://localhost:8080/",
          "height": 0
        },
        "id": "8tve7pMgVwkm",
        "outputId": "38643d92-bd81-43ff-b61f-2779a1573b85"
      },
      "execution_count": 39,
      "outputs": [
        {
          "output_type": "stream",
          "name": "stdout",
          "text": [
            "Target: [0 0 0 0 0 0 0 0 0 0 1 0 0 0 0 0], Predicted label: [2]\n"
          ]
        }
      ]
    },
    {
      "cell_type": "code",
      "source": [
        "#Save Model\n",
        "model.save(\"my_model\")"
      ],
      "metadata": {
        "colab": {
          "base_uri": "https://localhost:8080/",
          "height": 0
        },
        "id": "aakyJOk4lx-u",
        "outputId": "b5d25fb4-723c-406f-f898-4fa7f9093339"
      },
      "execution_count": 54,
      "outputs": [
        {
          "output_type": "stream",
          "name": "stdout",
          "text": [
            "INFO:tensorflow:Assets written to: my_model/assets\n"
          ]
        }
      ]
    },
    {
      "cell_type": "code",
      "source": [
        "#convert to tensorflowlite\n",
        "converter = tf.lite.TFLiteConverter.from_saved_model(\"my_model\") \n",
        "tflite_model = converter.convert()\n",
        "\n"
      ],
      "metadata": {
        "colab": {
          "base_uri": "https://localhost:8080/",
          "height": 0
        },
        "id": "NcqlUDammpez",
        "outputId": "7a1d8e51-b459-472c-d919-dd355687c338"
      },
      "execution_count": 55,
      "outputs": [
        {
          "output_type": "stream",
          "name": "stderr",
          "text": [
            "WARNING:absl:Buffer deduplication procedure will be skipped when flatbuffer library is not properly loaded\n"
          ]
        }
      ]
    },
    {
      "cell_type": "code",
      "source": [
        "with open('my_classification_model.tflite', 'wb') as f:\n",
        "  f.write(tflite_model)"
      ],
      "metadata": {
        "id": "VSyeu5KZoQNV"
      },
      "execution_count": 56,
      "outputs": []
    },
    {
      "cell_type": "code",
      "source": [
        "pip install tflite-support"
      ],
      "metadata": {
        "colab": {
          "base_uri": "https://localhost:8080/",
          "height": 398
        },
        "id": "EQer7yl4pQJQ",
        "outputId": "afcb570c-bdae-46d7-fb7c-bb6b16d3c4df"
      },
      "execution_count": 58,
      "outputs": [
        {
          "output_type": "stream",
          "name": "stdout",
          "text": [
            "Collecting tflite-support\n",
            "  Downloading tflite_support-0.3.1-cp37-cp37m-manylinux_2_12_x86_64.manylinux2010_x86_64.whl (1.1 MB)\n",
            "\u001b[K     |████████████████████████████████| 1.1 MB 5.3 MB/s \n",
            "\u001b[?25hCollecting pybind11>=2.6.0\n",
            "  Downloading pybind11-2.9.0-py2.py3-none-any.whl (210 kB)\n",
            "\u001b[K     |████████████████████████████████| 210 kB 50.1 MB/s \n",
            "\u001b[?25hRequirement already satisfied: numpy>=1.19.2 in /usr/local/lib/python3.7/dist-packages (from tflite-support) (1.19.5)\n",
            "Requirement already satisfied: absl-py>=0.7.0 in /usr/local/lib/python3.7/dist-packages (from tflite-support) (0.12.0)\n",
            "Collecting flatbuffers<2,>=1.12\n",
            "  Downloading flatbuffers-1.12-py2.py3-none-any.whl (15 kB)\n",
            "Requirement already satisfied: six in /usr/local/lib/python3.7/dist-packages (from absl-py>=0.7.0->tflite-support) (1.15.0)\n",
            "Installing collected packages: pybind11, flatbuffers, tflite-support\n",
            "  Attempting uninstall: flatbuffers\n",
            "    Found existing installation: flatbuffers 2.0\n",
            "    Uninstalling flatbuffers-2.0:\n",
            "      Successfully uninstalled flatbuffers-2.0\n",
            "Successfully installed flatbuffers-1.12 pybind11-2.9.0 tflite-support-0.3.1\n"
          ]
        },
        {
          "output_type": "display_data",
          "data": {
            "application/vnd.colab-display-data+json": {
              "pip_warning": {
                "packages": [
                  "flatbuffers"
                ]
              }
            }
          },
          "metadata": {}
        }
      ]
    },
    {
      "cell_type": "code",
      "source": [
        "#add metadata\n",
        "from tflite_support.metadata_writers import audio_classifier\n",
        "from tflite_support.metadata_writers import metadata_info\n",
        "from tflite_support.metadata_writers import writer_utils"
      ],
      "metadata": {
        "id": "Ns-acL9eoY_c"
      },
      "execution_count": 59,
      "outputs": []
    },
    {
      "cell_type": "code",
      "source": [
        "AudioClassifierWriter = audio_classifier.MetadataWriter\n",
        "_MODEL_PATH = \"my_classification_model.tflite\"\n",
        "# Task Library expects label files that are in the same format as the one below.\n",
        "_LABEL_FILE = \"my_classification_model_labels.txt\"\n",
        "# Expected sampling rate of the input audio buffer.\n",
        "_SAMPLE_RATE = 16000\n",
        "# Expected number of channels of the input audio buffer. Note, Task library only\n",
        "# support single channel so far.\n",
        "_CHANNELS = 1\n",
        "_SAVE_TO_PATH = \"my_classification_model_metadata.tflite\"\n",
        "\n",
        "# Create the metadata writer.\n",
        "writer = AudioClassifierWriter.create_for_inference(\n",
        "    writer_utils.load_file(_MODEL_PATH), _SAMPLE_RATE, _CHANNELS, [_LABEL_FILE])\n",
        "\n",
        "# Populate the metadata into the model.\n",
        "writer_utils.save_file(writer.populate(), _SAVE_TO_PATH)"
      ],
      "metadata": {
        "id": "slXBenuSpYJI"
      },
      "execution_count": null,
      "outputs": []
    }
  ],
  "metadata": {
    "colab": {
      "name": "AudioClassification12.ipynb",
      "provenance": [],
      "include_colab_link": true
    },
    "kernelspec": {
      "display_name": "Python 3",
      "language": "python",
      "name": "python3"
    },
    "language_info": {
      "codemirror_mode": {
        "name": "ipython",
        "version": 3
      },
      "file_extension": ".py",
      "mimetype": "text/x-python",
      "name": "python",
      "nbconvert_exporter": "python",
      "pygments_lexer": "ipython3",
      "version": "3.7.3"
    }
  },
  "nbformat": 4,
  "nbformat_minor": 0
}